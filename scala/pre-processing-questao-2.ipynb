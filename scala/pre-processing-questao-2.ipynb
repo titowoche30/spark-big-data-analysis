{
 "cells": [
  {
   "cell_type": "code",
   "execution_count": 2,
   "id": "worthy-acrylic",
   "metadata": {},
   "outputs": [
    {
     "data": {
      "application/vnd.jupyter.widget-view+json": {
       "model_id": "f1c8c63a9abb4f72922b338567718974",
       "version_major": 2,
       "version_minor": 0
      },
      "text/plain": [
       "VBox()"
      ]
     },
     "metadata": {},
     "output_type": "display_data"
    },
    {
     "data": {
      "application/vnd.jupyter.widget-view+json": {
       "model_id": "",
       "version_major": 2,
       "version_minor": 0
      },
      "text/plain": [
       "FloatProgress(value=0.0, bar_style='info', description='Progress:', layout=Layout(height='25px', width='50%'),…"
      ]
     },
     "metadata": {},
     "output_type": "display_data"
    },
    {
     "name": "stdout",
     "output_type": "stream",
     "text": [
      "res0: org.apache.spark.SparkContext = org.apache.spark.SparkContext@7b37262d\n"
     ]
    }
   ],
   "source": [
    "sc"
   ]
  },
  {
   "cell_type": "code",
   "execution_count": 3,
   "id": "first-trance",
   "metadata": {},
   "outputs": [
    {
     "data": {
      "application/vnd.jupyter.widget-view+json": {
       "model_id": "7a5ff369a19944e3be16b86e3626b39a",
       "version_major": 2,
       "version_minor": 0
      },
      "text/plain": [
       "VBox()"
      ]
     },
     "metadata": {},
     "output_type": "display_data"
    },
    {
     "data": {
      "application/vnd.jupyter.widget-view+json": {
       "model_id": "",
       "version_major": 2,
       "version_minor": 0
      },
      "text/plain": [
       "FloatProgress(value=0.0, bar_style='info', description='Progress:', layout=Layout(height='25px', width='50%'),…"
      ]
     },
     "metadata": {},
     "output_type": "display_data"
    },
    {
     "name": "stdout",
     "output_type": "stream",
     "text": [
      "import org.apache.spark.sql.{DataFrame, Column}\n",
      "import org.apache.spark.sql.functions._\n",
      "import org.apache.spark.sql.types._\n"
     ]
    }
   ],
   "source": [
    "import org.apache.spark.sql.{DataFrame,Column}\n",
    "import org.apache.spark.sql.functions._\n",
    "import org.apache.spark.sql.types._"
   ]
  },
  {
   "cell_type": "code",
   "execution_count": 4,
   "id": "filled-process",
   "metadata": {},
   "outputs": [
    {
     "data": {
      "application/vnd.jupyter.widget-view+json": {
       "model_id": "476e73ff8b3f47ac90e56758bd016169",
       "version_major": 2,
       "version_minor": 0
      },
      "text/plain": [
       "VBox()"
      ]
     },
     "metadata": {},
     "output_type": "display_data"
    },
    {
     "data": {
      "application/vnd.jupyter.widget-view+json": {
       "model_id": "",
       "version_major": 2,
       "version_minor": 0
      },
      "text/plain": [
       "FloatProgress(value=0.0, bar_style='info', description='Progress:', layout=Layout(height='25px', width='50%'),…"
      ]
     },
     "metadata": {},
     "output_type": "display_data"
    },
    {
     "name": "stdout",
     "output_type": "stream",
     "text": [
      "mapMonth: org.apache.spark.sql.expressions.UserDefinedFunction\n",
      "mapDay: org.apache.spark.sql.expressions.UserDefinedFunction\n"
     ]
    }
   ],
   "source": [
    "def mapMonth = udf(\n",
    "    (month: String) => month match {\n",
    "        case \"January\" => \"01\"\n",
    "        case \"February\" => \"02\"\n",
    "        case \"March\" => \"03\"\n",
    "        case \"April\" => \"04\"\n",
    "        case \"May\" => \"05\"\n",
    "        case \"June\" => \"06\"\n",
    "        case \"July\" => \"07\"\n",
    "        case \"August\" => \"08\"\n",
    "        case \"September\" => \"09\"\n",
    "        case \"October\" => \"10\"\n",
    "        case \"November\" => \"11\"\n",
    "        case \"December\" => \"12\"\n",
    "})\n",
    "\n",
    "def mapDay = udf(\n",
    "    (day: String) => day match {\n",
    "        case \"1\" => \"01\"\n",
    "        case \"2\" => \"02\"\n",
    "        case \"3\" => \"03\"\n",
    "        case \"4\" => \"04\"\n",
    "        case \"5\" => \"05\"\n",
    "        case \"6\" => \"06\"\n",
    "        case \"7\" => \"07\"\n",
    "        case \"8\" => \"08\"\n",
    "        case \"9\" => \"09\"\n",
    "        case _ => day\n",
    "})\n"
   ]
  },
  {
   "cell_type": "code",
   "execution_count": 5,
   "id": "retired-eleven",
   "metadata": {},
   "outputs": [
    {
     "data": {
      "application/vnd.jupyter.widget-view+json": {
       "model_id": "6220fa3dddd143e5a554794507843dd0",
       "version_major": 2,
       "version_minor": 0
      },
      "text/plain": [
       "VBox()"
      ]
     },
     "metadata": {},
     "output_type": "display_data"
    },
    {
     "data": {
      "application/vnd.jupyter.widget-view+json": {
       "model_id": "",
       "version_major": 2,
       "version_minor": 0
      },
      "text/plain": [
       "FloatProgress(value=0.0, bar_style='info', description='Progress:', layout=Layout(height='25px', width='50%'),…"
      ]
     },
     "metadata": {},
     "output_type": "display_data"
    },
    {
     "name": "stdout",
     "output_type": "stream",
     "text": [
      "preProcessingDF: (data: org.apache.spark.sql.DataFrame)org.apache.spark.sql.DataFrame\n"
     ]
    }
   ],
   "source": [
    " def preProcessingDF(data: DataFrame):DataFrame = {\n",
    "     (data\n",
    "      .select(\"_id\",\"createdAt\",\"text\",\"title\")\n",
    "      .withColumn(\"id\", col(\"_id.$oid\"))\n",
    "      .drop(\"_id\")\n",
    "      .withColumn(\"month-day\",\n",
    "                  split(col(\"createdAt\"),\",\")\n",
    "                 )\n",
    "      .withColumn(\"month\",\n",
    "                   element_at(\n",
    "                       split(element_at(col(\"month-day\"),1),\" \"),1)\n",
    "                  )\n",
    "       .withColumn(\"day\",\n",
    "                   element_at(\n",
    "                       split(element_at(col(\"month-day\"),1),\" \"),2)\n",
    "                  )\n",
    "       .withColumn(\"year\",\n",
    "                   element_at(\n",
    "                       col(\"month-day\"),2)\n",
    "                  )\n",
    "       .drop(\"month-day\",\"createdAt\")\n",
    "       .withColumn(\"Day\",mapDay(col(\"day\")))\n",
    "       .withColumn(\"Month\",mapMonth(col(\"month\")))\n",
    "       .withColumn(\"Year\",trim(col(\"year\")))\n",
    "       .withColumn(\"Date\",concat(col(\"day\"), lit(\"/\"),col(\"month\"),lit(\"/\"),col(\"Year\")))\n",
    "       .withColumn(\"Date\",to_date(col(\"Date\"),\"dd/MM/yyyy\"))\n",
    "       .drop(\"Month\",\"Day\",\"Year\")\n",
    "      )\n",
    "\n",
    "}\n"
   ]
  },
  {
   "cell_type": "code",
   "execution_count": 6,
   "id": "affiliated-merchant",
   "metadata": {},
   "outputs": [
    {
     "data": {
      "application/vnd.jupyter.widget-view+json": {
       "model_id": "f08d1c0b4b2945cf911283234155e2a2",
       "version_major": 2,
       "version_minor": 0
      },
      "text/plain": [
       "VBox()"
      ]
     },
     "metadata": {},
     "output_type": "display_data"
    },
    {
     "data": {
      "application/vnd.jupyter.widget-view+json": {
       "model_id": "",
       "version_major": 2,
       "version_minor": 0
      },
      "text/plain": [
       "FloatProgress(value=0.0, bar_style='info', description='Progress:', layout=Layout(height='25px', width='50%'),…"
      ]
     },
     "metadata": {},
     "output_type": "display_data"
    },
    {
     "name": "stdout",
     "output_type": "stream",
     "text": [
      "s3_path: String = s3://trab4-bucket/datasets/eiffel-tower-reviews.json\n",
      "data: org.apache.spark.sql.DataFrame = [_id: struct<$oid: string>, author: struct<helpfulVotes: string, level: string ... 4 more fields> ... 6 more fields]\n",
      "root\n",
      " |-- _id: struct (nullable = true)\n",
      " |    |-- $oid: string (nullable = true)\n",
      " |-- author: struct (nullable = true)\n",
      " |    |-- helpfulVotes: string (nullable = true)\n",
      " |    |-- level: string (nullable = true)\n",
      " |    |-- memberSince: string (nullable = true)\n",
      " |    |-- postForum: string (nullable = true)\n",
      " |    |-- ratings: string (nullable = true)\n",
      " |    |-- reviews: string (nullable = true)\n",
      " |-- bubbleCount: long (nullable = true)\n",
      " |-- collectedAt: struct (nullable = true)\n",
      " |    |-- $date: string (nullable = true)\n",
      " |-- createdAt: string (nullable = true)\n",
      " |-- query: string (nullable = true)\n",
      " |-- text: string (nullable = true)\n",
      " |-- title: string (nullable = true)\n",
      "\n",
      "+--------------------+--------------------+-----------+--------------------+------------+------------+--------------------+--------------------+\n",
      "|                 _id|              author|bubbleCount|         collectedAt|   createdAt|       query|                text|               title|\n",
      "+--------------------+--------------------+-----------+--------------------+------------+------------+--------------------+--------------------+\n",
      "|[5921cdae4b679c46...|[0, 0, Since this...|         50|[2017-05-21T17:26...|May 20, 2017|Eiffel_Tower|This is the most ...|Must do even it w...|\n",
      "|[5921cdae4b679c46...|[10, 4, Since Aug...|         50|[2017-05-21T17:26...|May 20, 2017|Eiffel_Tower|My significant ot...|           A Classic|\n",
      "|[5921cdae4b679c46...|[9, 4, Since Nov ...|         50|[2017-05-21T17:26...|May 20, 2017|Eiffel_Tower|We had a tour to ...|         Wet weather|\n",
      "|[5921cdae4b679c46...|[16, 5, Since Apr...|         50|[2017-05-21T17:26...|May 20, 2017|Eiffel_Tower|Visited with my w...|    Not to be missed|\n",
      "|[5921cdae4b679c46...|[30, 6, Since Jan...|         50|[2017-05-21T17:26...|May 20, 2017|Eiffel_Tower|We went in the ni...|          Awesome!!!|\n",
      "|[5921cdbf4b679c46...|[11, 4, Since Jul...|         50|[2017-05-21T17:26...|May 20, 2017|Eiffel_Tower|Dont hesitate and...|Iconic place for ...|\n",
      "|[5921cdbf4b679c46...|[12, 2, Since Jul...|         40|[2017-05-21T17:26...|May 20, 2017|Eiffel_Tower|I enjoyed the tow...|          Delightful|\n",
      "|[5921cdbf4b679c46...|[4, 3, Since May ...|         50|[2017-05-21T17:26...|May 20, 2017|Eiffel_Tower|Read through the ...|Wonderful experie...|\n",
      "|[5921cdbf4b679c46...|[12, 3, Since Dec...|         50|[2017-05-21T17:26...|May 20, 2017|Eiffel_Tower|This by far was o...|                 Wow|\n",
      "|[5921cdcf4b679c46...|[6, 4, Since May ...|         50|[2017-05-21T17:26...|May 19, 2017|Eiffel_Tower|Something you hav...|              Great |\n",
      "+--------------------+--------------------+-----------+--------------------+------------+------------+--------------------+--------------------+\n",
      "only showing top 10 rows\n",
      "\n"
     ]
    }
   ],
   "source": [
    "val s3_path = \"s3://trab4-bucket/datasets/eiffel-tower-reviews.json\"\n",
    "\n",
    "val data = ( spark\n",
    "            .read\n",
    "            .option(\"inferSchema\",\"true\")\n",
    "            .json(s3_path) ) \n",
    "\n",
    "data.printSchema()\n",
    "data.show(10)"
   ]
  },
  {
   "cell_type": "code",
   "execution_count": 7,
   "id": "fabulous-french",
   "metadata": {},
   "outputs": [
    {
     "data": {
      "application/vnd.jupyter.widget-view+json": {
       "model_id": "6c3d23b0de1a418c858296e59f4b9ba0",
       "version_major": 2,
       "version_minor": 0
      },
      "text/plain": [
       "VBox()"
      ]
     },
     "metadata": {},
     "output_type": "display_data"
    },
    {
     "data": {
      "application/vnd.jupyter.widget-view+json": {
       "model_id": "",
       "version_major": 2,
       "version_minor": 0
      },
      "text/plain": [
       "FloatProgress(value=0.0, bar_style='info', description='Progress:', layout=Layout(height='25px', width='50%'),…"
      ]
     },
     "metadata": {},
     "output_type": "display_data"
    },
    {
     "name": "stdout",
     "output_type": "stream",
     "text": [
      "data_processed: org.apache.spark.sql.DataFrame = [text: string, title: string ... 2 more fields]\n"
     ]
    }
   ],
   "source": [
    "val data_processed = preProcessingDF(data)\n",
    "data_processed.write.parquet(\"s3://trab4-bucket/datasets/torre-eifel.parquet\")"
   ]
  }
 ],
 "metadata": {
  "kernelspec": {
   "display_name": "Spark",
   "language": "",
   "name": "sparkkernel"
  },
  "language_info": {
   "codemirror_mode": "text/x-scala",
   "mimetype": "text/x-scala",
   "name": "scala",
   "pygments_lexer": "scala"
  }
 },
 "nbformat": 4,
 "nbformat_minor": 5
}
