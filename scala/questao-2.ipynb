{
 "cells": [
  {
   "cell_type": "code",
   "execution_count": 1,
   "id": "agricultural-praise",
   "metadata": {},
   "outputs": [
    {
     "data": {
      "application/vnd.jupyter.widget-view+json": {
       "model_id": "4cf4012f0bc94d50adcd7ba50494339d",
       "version_major": 2,
       "version_minor": 0
      },
      "text/plain": [
       "VBox()"
      ]
     },
     "metadata": {},
     "output_type": "display_data"
    },
    {
     "name": "stdout",
     "output_type": "stream",
     "text": [
      "Starting Spark application\n"
     ]
    },
    {
     "data": {
      "text/html": [
       "<table>\n",
       "<tr><th>ID</th><th>YARN Application ID</th><th>Kind</th><th>State</th><th>Spark UI</th><th>Driver log</th><th>Current session?</th></tr><tr><td>0</td><td>application_1616024691518_0002</td><td>spark</td><td>idle</td><td><a target=\"_blank\" href=\"http://ip-172-31-89-202.ec2.internal:20888/proxy/application_1616024691518_0002/\">Link</a></td><td><a target=\"_blank\" href=\"http://ip-172-31-91-44.ec2.internal:8042/node/containerlogs/container_1616024691518_0002_01_000001/livy\">Link</a></td><td>✔</td></tr></table>"
      ],
      "text/plain": [
       "<IPython.core.display.HTML object>"
      ]
     },
     "metadata": {},
     "output_type": "display_data"
    },
    {
     "data": {
      "application/vnd.jupyter.widget-view+json": {
       "model_id": "",
       "version_major": 2,
       "version_minor": 0
      },
      "text/plain": [
       "FloatProgress(value=0.0, bar_style='info', description='Progress:', layout=Layout(height='25px', width='50%'),…"
      ]
     },
     "metadata": {},
     "output_type": "display_data"
    },
    {
     "name": "stdout",
     "output_type": "stream",
     "text": [
      "SparkSession available as 'spark'.\n"
     ]
    },
    {
     "data": {
      "application/vnd.jupyter.widget-view+json": {
       "model_id": "",
       "version_major": 2,
       "version_minor": 0
      },
      "text/plain": [
       "FloatProgress(value=0.0, bar_style='info', description='Progress:', layout=Layout(height='25px', width='50%'),…"
      ]
     },
     "metadata": {},
     "output_type": "display_data"
    },
    {
     "name": "stdout",
     "output_type": "stream",
     "text": [
      "res1: org.apache.spark.SparkContext = org.apache.spark.SparkContext@451376b1\n"
     ]
    }
   ],
   "source": [
    "sc"
   ]
  },
  {
   "cell_type": "code",
   "execution_count": 2,
   "id": "found-riding",
   "metadata": {},
   "outputs": [
    {
     "data": {
      "application/vnd.jupyter.widget-view+json": {
       "model_id": "a7ab7529496542639d201db530587892",
       "version_major": 2,
       "version_minor": 0
      },
      "text/plain": [
       "VBox()"
      ]
     },
     "metadata": {},
     "output_type": "display_data"
    },
    {
     "data": {
      "application/vnd.jupyter.widget-view+json": {
       "model_id": "",
       "version_major": 2,
       "version_minor": 0
      },
      "text/plain": [
       "FloatProgress(value=0.0, bar_style='info', description='Progress:', layout=Layout(height='25px', width='50%'),…"
      ]
     },
     "metadata": {},
     "output_type": "display_data"
    },
    {
     "name": "stdout",
     "output_type": "stream",
     "text": [
      "import org.apache.spark.sql.{DataFrame, Column}\n",
      "import org.apache.spark.sql.functions._\n",
      "import org.apache.spark.sql.types._\n"
     ]
    }
   ],
   "source": [
    "import org.apache.spark.sql.{DataFrame,Column}\n",
    "import org.apache.spark.sql.functions._\n",
    "import org.apache.spark.sql.types._"
   ]
  },
  {
   "cell_type": "code",
   "execution_count": 42,
   "id": "sealed-wholesale",
   "metadata": {},
   "outputs": [
    {
     "data": {
      "application/vnd.jupyter.widget-view+json": {
       "model_id": "c0be297a71a2449c89fafdc441b493ff",
       "version_major": 2,
       "version_minor": 0
      },
      "text/plain": [
       "VBox()"
      ]
     },
     "metadata": {},
     "output_type": "display_data"
    },
    {
     "data": {
      "application/vnd.jupyter.widget-view+json": {
       "model_id": "",
       "version_major": 2,
       "version_minor": 0
      },
      "text/plain": [
       "FloatProgress(value=0.0, bar_style='info', description='Progress:', layout=Layout(height='25px', width='50%'),…"
      ]
     },
     "metadata": {},
     "output_type": "display_data"
    },
    {
     "name": "stdout",
     "output_type": "stream",
     "text": [
      "saveCSV: (df: org.apache.spark.sql.DataFrame, path: String)Unit\n"
     ]
    }
   ],
   "source": [
    "def saveCSV(df: DataFrame, path: String): Unit =\n",
    "(\n",
    "    df\n",
    "    .repartition(1)\n",
    "    .write\n",
    "    .option(\"header\", \"true\")\n",
    "    .csv(path)\n",
    ")\n"
   ]
  },
  {
   "cell_type": "code",
   "execution_count": 30,
   "id": "useful-lewis",
   "metadata": {},
   "outputs": [
    {
     "data": {
      "application/vnd.jupyter.widget-view+json": {
       "model_id": "98ce88e87b5a4e2b8dd370b75d716715",
       "version_major": 2,
       "version_minor": 0
      },
      "text/plain": [
       "VBox()"
      ]
     },
     "metadata": {},
     "output_type": "display_data"
    },
    {
     "data": {
      "application/vnd.jupyter.widget-view+json": {
       "model_id": "",
       "version_major": 2,
       "version_minor": 0
      },
      "text/plain": [
       "FloatProgress(value=0.0, bar_style='info', description='Progress:', layout=Layout(height='25px', width='50%'),…"
      ]
     },
     "metadata": {},
     "output_type": "display_data"
    },
    {
     "name": "stdout",
     "output_type": "stream",
     "text": [
      "s3_path: String = s3://trab4-bucket/datasets/torre-eifel.parquet\n",
      "df: org.apache.spark.sql.DataFrame = [text: string, title: string ... 2 more fields]\n"
     ]
    }
   ],
   "source": [
    "val s3_path = \"s3://trab4-bucket/datasets/torre-eifel.parquet\"\n",
    "\n",
    "val df = spark.read.parquet(s3_path)"
   ]
  },
  {
   "cell_type": "code",
   "execution_count": 32,
   "id": "based-address",
   "metadata": {},
   "outputs": [
    {
     "data": {
      "application/vnd.jupyter.widget-view+json": {
       "model_id": "334b97812ee84996a3c5b85785447dc1",
       "version_major": 2,
       "version_minor": 0
      },
      "text/plain": [
       "VBox()"
      ]
     },
     "metadata": {},
     "output_type": "display_data"
    },
    {
     "data": {
      "application/vnd.jupyter.widget-view+json": {
       "model_id": "",
       "version_major": 2,
       "version_minor": 0
      },
      "text/plain": [
       "FloatProgress(value=0.0, bar_style='info', description='Progress:', layout=Layout(height='25px', width='50%'),…"
      ]
     },
     "metadata": {},
     "output_type": "display_data"
    },
    {
     "name": "stdout",
     "output_type": "stream",
     "text": [
      "+--------------------+--------------------+--------------------+----------+\n",
      "|                text|               title|                  id|      Date|\n",
      "+--------------------+--------------------+--------------------+----------+\n",
      "|This is the most ...|Must do even it w...|5921cdae4b679c464...|2017-05-20|\n",
      "|My significant ot...|           A Classic|5921cdae4b679c464...|2017-05-20|\n",
      "|We had a tour to ...|         Wet weather|5921cdae4b679c464...|2017-05-20|\n",
      "|Visited with my w...|    Not to be missed|5921cdae4b679c464...|2017-05-20|\n",
      "|We went in the ni...|          Awesome!!!|5921cdae4b679c464...|2017-05-20|\n",
      "|Dont hesitate and...|Iconic place for ...|5921cdbf4b679c464...|2017-05-20|\n",
      "|I enjoyed the tow...|          Delightful|5921cdbf4b679c464...|2017-05-20|\n",
      "|Read through the ...|Wonderful experie...|5921cdbf4b679c464...|2017-05-20|\n",
      "|This by far was o...|                 Wow|5921cdbf4b679c464...|2017-05-20|\n",
      "|Something you hav...|              Great |5921cdcf4b679c464...|2017-05-19|\n",
      "+--------------------+--------------------+--------------------+----------+\n",
      "only showing top 10 rows\n",
      "\n"
     ]
    }
   ],
   "source": [
    "df.show(10)"
   ]
  },
  {
   "cell_type": "markdown",
   "id": "modular-concentrate",
   "metadata": {},
   "source": [
    "# 2 a) Encontre as palavras mais utilizadas nas avaliações."
   ]
  },
  {
   "cell_type": "code",
   "execution_count": 49,
   "id": "suspended-scanning",
   "metadata": {},
   "outputs": [
    {
     "data": {
      "application/vnd.jupyter.widget-view+json": {
       "model_id": "b12406f2785c47a7ac907962cf2207d6",
       "version_major": 2,
       "version_minor": 0
      },
      "text/plain": [
       "VBox()"
      ]
     },
     "metadata": {},
     "output_type": "display_data"
    },
    {
     "data": {
      "application/vnd.jupyter.widget-view+json": {
       "model_id": "",
       "version_major": 2,
       "version_minor": 0
      },
      "text/plain": [
       "FloatProgress(value=0.0, bar_style='info', description='Progress:', layout=Layout(height='25px', width='50%'),…"
      ]
     },
     "metadata": {},
     "output_type": "display_data"
    },
    {
     "name": "stdout",
     "output_type": "stream",
     "text": [
      "dfWords: org.apache.spark.sql.Dataset[org.apache.spark.sql.Row] = [word: string, count: bigint]\n",
      "+-------+-----+\n",
      "|   word|count|\n",
      "+-------+-----+\n",
      "|  tower| 4184|\n",
      "| eiffel| 3246|\n",
      "|  there| 2049|\n",
      "|  paris| 1997|\n",
      "|  visit| 1322|\n",
      "|  views| 1239|\n",
      "|tickets| 1222|\n",
      "|  worth| 1164|\n",
      "|  night| 1107|\n",
      "| tower.| 1039|\n",
      "|  great| 1038|\n",
      "|  first|  945|\n",
      "| around|  840|\n",
      "| second|  835|\n",
      "| paris.|  831|\n",
      "+-------+-----+\n",
      "\n"
     ]
    }
   ],
   "source": [
    "val dfWords = (\n",
    "    df.withColumn(\"word\", explode(split(col(\"text\"),\" \")))\n",
    "    .withColumn(\"word\",lower(col(\"word\")))\n",
    "    .filter(length(col(\"word\")) > 4)\n",
    "    .groupBy(\"word\") \n",
    "    .count() \n",
    "    .orderBy(desc(\"count\"))\n",
    "    .limit(15)\n",
    ")\n",
    "\n",
    "dfWords.show()\n",
    "\n",
    "saveCSV(dfWords,\"s3://trab4-bucket/datasets/questoes/2/a.csv\")"
   ]
  },
  {
   "cell_type": "markdown",
   "id": "rocky-current",
   "metadata": {},
   "source": [
    "# 2 b) Encontre as expressões mais usadas."
   ]
  },
  {
   "cell_type": "code",
   "execution_count": 34,
   "id": "recent-buffalo",
   "metadata": {},
   "outputs": [
    {
     "data": {
      "application/vnd.jupyter.widget-view+json": {
       "model_id": "9ea4979194fa4f12b17b4a7b778edb72",
       "version_major": 2,
       "version_minor": 0
      },
      "text/plain": [
       "VBox()"
      ]
     },
     "metadata": {},
     "output_type": "display_data"
    },
    {
     "data": {
      "application/vnd.jupyter.widget-view+json": {
       "model_id": "",
       "version_major": 2,
       "version_minor": 0
      },
      "text/plain": [
       "FloatProgress(value=0.0, bar_style='info', description='Progress:', layout=Layout(height='25px', width='50%'),…"
      ]
     },
     "metadata": {},
     "output_type": "display_data"
    },
    {
     "name": "stdout",
     "output_type": "stream",
     "text": [
      "splitOnLength: (len: Int)org.apache.spark.sql.expressions.UserDefinedFunction\n"
     ]
    }
   ],
   "source": [
    "def splitOnLength(len: Int) = udf(\n",
    "    (str: String) => {\n",
    "  str.toLowerCase.grouped(len).toSeq\n",
    "})\n"
   ]
  },
  {
   "cell_type": "code",
   "execution_count": 50,
   "id": "double-furniture",
   "metadata": {},
   "outputs": [
    {
     "data": {
      "application/vnd.jupyter.widget-view+json": {
       "model_id": "a9547cabfe0d4d7e9df1526c567acb4f",
       "version_major": 2,
       "version_minor": 0
      },
      "text/plain": [
       "VBox()"
      ]
     },
     "metadata": {},
     "output_type": "display_data"
    },
    {
     "data": {
      "application/vnd.jupyter.widget-view+json": {
       "model_id": "",
       "version_major": 2,
       "version_minor": 0
      },
      "text/plain": [
       "FloatProgress(value=0.0, bar_style='info', description='Progress:', layout=Layout(height='25px', width='50%'),…"
      ]
     },
     "metadata": {},
     "output_type": "display_data"
    },
    {
     "name": "stdout",
     "output_type": "stream",
     "text": [
      "threshold: Int = 45\n",
      "dfExpr: org.apache.spark.sql.Dataset[org.apache.spark.sql.Row] = [Expr: string, count: bigint]\n",
      "+---------------------------------------------+-----+\n",
      "|Expr                                         |count|\n",
      "+---------------------------------------------+-----+\n",
      "|no trip to paris would be complete without a |3    |\n",
      "|you can't go to paris and not visit the eiffe|3    |\n",
      "|you can't go to paris without visiting the ei|3    |\n",
      "|no visit to paris would be complete without a|2    |\n",
      "|we got there first thing in the morning which|2    |\n",
      "|a trip to paris is not complete without a vis|2    |\n",
      "|you cannot go to paris without visiting the e|2    |\n",
      "|the eiffel tower is to paris what the statue |2    |\n",
      "|of liberty is to new york and what big ben is|2    |\n",
      "|well what can i say that hasn't already been |2    |\n",
      "|this was my second visit to the eiffel tower.|2    |\n",
      "|the eiffel tower can be seen from all over pa|2    |\n",
      "|so worth climbing up rather than taking the e|2    |\n",
      "|we loved our stay in paris & visiting the eif|2    |\n",
      "|we visited the eiffel tower twice during our |2    |\n",
      "+---------------------------------------------+-----+\n",
      "\n"
     ]
    }
   ],
   "source": [
    "val threshold = 45\n",
    "val dfExpr = (\n",
    "    df\n",
    "    .na.fill(Map(\"text\" -> \" \"))\n",
    "    .withColumn(\"Expr\",splitOnLength(threshold)(col(\"text\")))\n",
    "    .withColumn(\"Expr\", explode(col(\"Expr\")))\n",
    "    .filter(\n",
    "        length(col(\"Expr\")) === threshold\n",
    "    )\n",
    "    .groupBy(\"Expr\")\n",
    "    .count()\n",
    "    .orderBy(desc(\"count\"))\n",
    "    .limit(15)\n",
    ")\n",
    "\n",
    "dfExpr.show(false)\n",
    "\n",
    "saveCSV(dfExpr,\"s3://trab4-bucket/datasets/questoes/2/b.csv\")\n",
    "\n"
   ]
  },
  {
   "cell_type": "markdown",
   "id": "macro-garbage",
   "metadata": {},
   "source": [
    "# 2 c) Encontre os principais tópicos relacionados às revisões."
   ]
  },
  {
   "cell_type": "code",
   "execution_count": 51,
   "id": "documented-tourism",
   "metadata": {},
   "outputs": [
    {
     "data": {
      "application/vnd.jupyter.widget-view+json": {
       "model_id": "a6e66ecdc39f4028a7bba25626b82ff2",
       "version_major": 2,
       "version_minor": 0
      },
      "text/plain": [
       "VBox()"
      ]
     },
     "metadata": {},
     "output_type": "display_data"
    },
    {
     "data": {
      "application/vnd.jupyter.widget-view+json": {
       "model_id": "",
       "version_major": 2,
       "version_minor": 0
      },
      "text/plain": [
       "FloatProgress(value=0.0, bar_style='info', description='Progress:', layout=Layout(height='25px', width='50%'),…"
      ]
     },
     "metadata": {},
     "output_type": "display_data"
    },
    {
     "name": "stdout",
     "output_type": "stream",
     "text": [
      "threshold_max: Int = 16\n",
      "threshold_min: Int = 3\n",
      "dfTopics: org.apache.spark.sql.Dataset[org.apache.spark.sql.Row] = [word: string, count: bigint]\n",
      "+----------+-----+\n",
      "|word      |count|\n",
      "+----------+-----+\n",
      "|must      |687  |\n",
      "|paris     |634  |\n",
      "|eiffel    |579  |\n",
      "|tower     |556  |\n",
      "|amazing   |426  |\n",
      "|view      |340  |\n",
      "|beautiful |322  |\n",
      "|great     |317  |\n",
      "|night     |288  |\n",
      "|visit     |287  |\n",
      "|views     |239  |\n",
      "|worth     |219  |\n",
      "|iconic    |181  |\n",
      "|from      |148  |\n",
      "|experience|136  |\n",
      "+----------+-----+\n",
      "\n"
     ]
    }
   ],
   "source": [
    "val threshold_max = 16\n",
    "val threshold_min = 3\n",
    "val dfTopics = (\n",
    "    df.withColumn(\"word\", explode(split(col(\"title\"),\" \")))\n",
    "    .withColumn(\"word\",lower(col(\"word\")))\n",
    "    .filter(length(col(\"word\")) < threshold_max && length(col(\"word\")) > threshold_min)\n",
    "    .groupBy(\"word\") \n",
    "    .count() \n",
    "    .orderBy(desc(\"count\"))\n",
    "    .limit(15)\n",
    ")\n",
    "\n",
    "dfTopics.show(false)\n",
    "\n",
    "saveCSV(dfTopics,\"s3://trab4-bucket/datasets/questoes/2/c.csv\")"
   ]
  },
  {
   "cell_type": "markdown",
   "id": "black-uniform",
   "metadata": {},
   "source": [
    "# 2 d) Mapeie a distribuição temporal das revisões."
   ]
  },
  {
   "cell_type": "code",
   "execution_count": 53,
   "id": "dedicated-bahrain",
   "metadata": {},
   "outputs": [
    {
     "data": {
      "application/vnd.jupyter.widget-view+json": {
       "model_id": "343db6baa7dc48c7a0ed670b7dd405e0",
       "version_major": 2,
       "version_minor": 0
      },
      "text/plain": [
       "VBox()"
      ]
     },
     "metadata": {},
     "output_type": "display_data"
    },
    {
     "data": {
      "application/vnd.jupyter.widget-view+json": {
       "model_id": "",
       "version_major": 2,
       "version_minor": 0
      },
      "text/plain": [
       "FloatProgress(value=0.0, bar_style='info', description='Progress:', layout=Layout(height='25px', width='50%'),…"
      ]
     },
     "metadata": {},
     "output_type": "display_data"
    },
    {
     "name": "stdout",
     "output_type": "stream",
     "text": [
      "dfTimeSeries: org.apache.spark.sql.Dataset[org.apache.spark.sql.Row] = [Date: date, count: bigint]\n",
      "+----------+-----+\n",
      "|Date      |count|\n",
      "+----------+-----+\n",
      "|2015-07-27|16   |\n",
      "|2015-07-28|16   |\n",
      "|2015-07-29|5    |\n",
      "|2015-07-30|3    |\n",
      "|2015-07-31|11   |\n",
      "|2015-08-01|5    |\n",
      "|2015-08-02|9    |\n",
      "|2015-08-03|14   |\n",
      "|2015-08-04|3    |\n",
      "|2015-08-05|6    |\n",
      "|2015-08-06|16   |\n",
      "|2015-08-07|10   |\n",
      "|2015-08-08|16   |\n",
      "|2015-08-09|15   |\n",
      "|2015-08-10|25   |\n",
      "|2015-08-11|25   |\n",
      "|2015-08-12|15   |\n",
      "|2015-08-13|37   |\n",
      "|2015-08-14|34   |\n",
      "|2015-08-15|18   |\n",
      "+----------+-----+\n",
      "only showing top 20 rows\n",
      "\n"
     ]
    }
   ],
   "source": [
    "val dfTimeSeries = (df\n",
    "                    .groupBy(\"Date\")\n",
    "                    .count()\n",
    "                    .orderBy(asc(\"Date\"))\n",
    "                   )\n",
    "\n",
    "dfTimeSeries.show(false)\n",
    "\n",
    "saveCSV(dfTimeSeries,\"s3://trab4-bucket/datasets/questoes/2/d.csv\")"
   ]
  }
 ],
 "metadata": {
  "kernelspec": {
   "display_name": "Spark",
   "language": "",
   "name": "sparkkernel"
  },
  "language_info": {
   "codemirror_mode": "text/x-scala",
   "mimetype": "text/x-scala",
   "name": "scala",
   "pygments_lexer": "scala"
  }
 },
 "nbformat": 4,
 "nbformat_minor": 5
}
