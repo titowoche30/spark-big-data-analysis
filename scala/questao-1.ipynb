{
 "cells": [
  {
   "cell_type": "code",
   "execution_count": 1,
   "id": "interesting-leather",
   "metadata": {},
   "outputs": [
    {
     "data": {
      "application/vnd.jupyter.widget-view+json": {
       "model_id": "dc7156ba0f894633865d8b672e672f6c",
       "version_major": 2,
       "version_minor": 0
      },
      "text/plain": [
       "VBox()"
      ]
     },
     "metadata": {},
     "output_type": "display_data"
    },
    {
     "name": "stdout",
     "output_type": "stream",
     "text": [
      "Starting Spark application\n"
     ]
    },
    {
     "data": {
      "text/html": [
       "<table>\n",
       "<tr><th>ID</th><th>YARN Application ID</th><th>Kind</th><th>State</th><th>Spark UI</th><th>Driver log</th><th>Current session?</th></tr><tr><td>0</td><td>application_1615659097244_0002</td><td>spark</td><td>idle</td><td><a target=\"_blank\" href=\"http://ip-172-31-91-212.ec2.internal:20888/proxy/application_1615659097244_0002/\">Link</a></td><td><a target=\"_blank\" href=\"http://ip-172-31-81-202.ec2.internal:8042/node/containerlogs/container_1615659097244_0002_01_000001/livy\">Link</a></td><td>✔</td></tr></table>"
      ],
      "text/plain": [
       "<IPython.core.display.HTML object>"
      ]
     },
     "metadata": {},
     "output_type": "display_data"
    },
    {
     "data": {
      "application/vnd.jupyter.widget-view+json": {
       "model_id": "",
       "version_major": 2,
       "version_minor": 0
      },
      "text/plain": [
       "FloatProgress(value=0.0, bar_style='info', description='Progress:', layout=Layout(height='25px', width='50%'),…"
      ]
     },
     "metadata": {},
     "output_type": "display_data"
    },
    {
     "name": "stdout",
     "output_type": "stream",
     "text": [
      "SparkSession available as 'spark'.\n"
     ]
    },
    {
     "data": {
      "application/vnd.jupyter.widget-view+json": {
       "model_id": "",
       "version_major": 2,
       "version_minor": 0
      },
      "text/plain": [
       "FloatProgress(value=0.0, bar_style='info', description='Progress:', layout=Layout(height='25px', width='50%'),…"
      ]
     },
     "metadata": {},
     "output_type": "display_data"
    },
    {
     "name": "stdout",
     "output_type": "stream",
     "text": [
      "res1: org.apache.spark.SparkContext = org.apache.spark.SparkContext@7d48853d\n"
     ]
    }
   ],
   "source": [
    "sc"
   ]
  },
  {
   "cell_type": "code",
   "execution_count": 279,
   "id": "initial-paris",
   "metadata": {},
   "outputs": [
    {
     "data": {
      "application/vnd.jupyter.widget-view+json": {
       "model_id": "77e1ca767b6a4007b50752ebf7685a65",
       "version_major": 2,
       "version_minor": 0
      },
      "text/plain": [
       "VBox()"
      ]
     },
     "metadata": {},
     "output_type": "display_data"
    },
    {
     "data": {
      "application/vnd.jupyter.widget-view+json": {
       "model_id": "",
       "version_major": 2,
       "version_minor": 0
      },
      "text/plain": [
       "FloatProgress(value=0.0, bar_style='info', description='Progress:', layout=Layout(height='25px', width='50%'),…"
      ]
     },
     "metadata": {},
     "output_type": "display_data"
    },
    {
     "name": "stdout",
     "output_type": "stream",
     "text": [
      "import org.apache.spark.sql.{DataFrame, Column}\n",
      "import org.apache.spark.sql.functions._\n",
      "import org.apache.spark.sql.types._\n"
     ]
    }
   ],
   "source": [
    "import org.apache.spark.sql.{DataFrame,Column}\n",
    "import org.apache.spark.sql.functions._\n",
    "import org.apache.spark.sql.types._"
   ]
  },
  {
   "cell_type": "code",
   "execution_count": 308,
   "id": "adopted-formula",
   "metadata": {},
   "outputs": [
    {
     "data": {
      "application/vnd.jupyter.widget-view+json": {
       "model_id": "c24c5273f5674b18b14ff2b8d8899448",
       "version_major": 2,
       "version_minor": 0
      },
      "text/plain": [
       "VBox()"
      ]
     },
     "metadata": {},
     "output_type": "display_data"
    },
    {
     "data": {
      "application/vnd.jupyter.widget-view+json": {
       "model_id": "",
       "version_major": 2,
       "version_minor": 0
      },
      "text/plain": [
       "FloatProgress(value=0.0, bar_style='info', description='Progress:', layout=Layout(height='25px', width='50%'),…"
      ]
     },
     "metadata": {},
     "output_type": "display_data"
    },
    {
     "name": "stdout",
     "output_type": "stream",
     "text": [
      "saveCSV: (df: org.apache.spark.sql.DataFrame, path: String, limit: Int)Unit\n"
     ]
    }
   ],
   "source": [
    "def saveCSV(df: DataFrame, path: String, limit: Int = 15): Unit = \n",
    "(\n",
    "    df\n",
    "    .limit(limit)\n",
    "    .repartition(1)\n",
    "    .write\n",
    "    .option(\"header\", \"true\")\n",
    "    .csv(path)\n",
    ")\n"
   ]
  },
  {
   "cell_type": "code",
   "execution_count": 271,
   "id": "tracked-panama",
   "metadata": {},
   "outputs": [
    {
     "data": {
      "application/vnd.jupyter.widget-view+json": {
       "model_id": "5327ceac086847229b356ac2aa1eae7c",
       "version_major": 2,
       "version_minor": 0
      },
      "text/plain": [
       "VBox()"
      ]
     },
     "metadata": {},
     "output_type": "display_data"
    },
    {
     "data": {
      "application/vnd.jupyter.widget-view+json": {
       "model_id": "",
       "version_major": 2,
       "version_minor": 0
      },
      "text/plain": [
       "FloatProgress(value=0.0, bar_style='info', description='Progress:', layout=Layout(height='25px', width='50%'),…"
      ]
     },
     "metadata": {},
     "output_type": "display_data"
    },
    {
     "name": "stdout",
     "output_type": "stream",
     "text": [
      "s3_path: String = s3://trab4-bucket/datasets/debate-tweets.parquet\n",
      "df: org.apache.spark.sql.DataFrame = [Tweets: string, Date: timestamp ... 1 more field]\n"
     ]
    }
   ],
   "source": [
    "val s3_path = \"s3://trab4-bucket/datasets/debate-tweets.parquet\"\n",
    "\n",
    "val df = spark.read.parquet(s3_path)"
   ]
  },
  {
   "cell_type": "code",
   "execution_count": 273,
   "id": "mathematical-sigma",
   "metadata": {},
   "outputs": [
    {
     "data": {
      "application/vnd.jupyter.widget-view+json": {
       "model_id": "102527ad7bee499aa116d5bc8e303ca6",
       "version_major": 2,
       "version_minor": 0
      },
      "text/plain": [
       "VBox()"
      ]
     },
     "metadata": {},
     "output_type": "display_data"
    },
    {
     "data": {
      "application/vnd.jupyter.widget-view+json": {
       "model_id": "",
       "version_major": 2,
       "version_minor": 0
      },
      "text/plain": [
       "FloatProgress(value=0.0, bar_style='info', description='Progress:', layout=Layout(height='25px', width='50%'),…"
      ]
     },
     "metadata": {},
     "output_type": "display_data"
    },
    {
     "name": "stdout",
     "output_type": "stream",
     "text": [
      "root\n",
      " |-- Tweets: string (nullable = true)\n",
      " |-- Date: timestamp (nullable = true)\n",
      " |-- ID: long (nullable = true)\n",
      "\n"
     ]
    }
   ],
   "source": [
    "df.printSchema()"
   ]
  },
  {
   "cell_type": "code",
   "execution_count": 272,
   "id": "judicial-envelope",
   "metadata": {},
   "outputs": [
    {
     "data": {
      "application/vnd.jupyter.widget-view+json": {
       "model_id": "7e2e82df27c2474f8e9b3227864494a6",
       "version_major": 2,
       "version_minor": 0
      },
      "text/plain": [
       "VBox()"
      ]
     },
     "metadata": {},
     "output_type": "display_data"
    },
    {
     "data": {
      "application/vnd.jupyter.widget-view+json": {
       "model_id": "",
       "version_major": 2,
       "version_minor": 0
      },
      "text/plain": [
       "FloatProgress(value=0.0, bar_style='info', description='Progress:', layout=Layout(height='25px', width='50%'),…"
      ]
     },
     "metadata": {},
     "output_type": "display_data"
    },
    {
     "name": "stdout",
     "output_type": "stream",
     "text": [
      "+--------------------+-------------------+-----------+\n",
      "|              Tweets|               Date|         ID|\n",
      "+--------------------+-------------------+-----------+\n",
      "|@justinbieber  i ...|2014-10-17 16:55:34|85899345920|\n",
      "| Precisoo!!!!!☀️☀️☀️|2014-10-17 16:55:34|85899345921|\n",
      "|@Silvinho95_  sau...|2014-10-17 16:55:34|85899345922|\n",
      "|Que felicidad es ...|2014-10-17 16:55:35|85899345923|\n",
      "|Every time i fall...|2014-10-17 16:55:34|85899345924|\n",
      "|          Tenho q ri|2014-10-17 16:55:35|85899345925|\n",
      "|@Maristrin @rodri...|2014-10-17 16:55:35|85899345926|\n",
      "|    Los cago odiando|2014-10-17 16:55:35|85899345927|\n",
      "|Só marketing ne.....|2014-10-17 16:55:35|85899345928|\n",
      "|@taiis_oliveira q...|2014-10-17 16:55:35|85899345929|\n",
      "+--------------------+-------------------+-----------+\n",
      "only showing top 10 rows\n",
      "\n"
     ]
    }
   ],
   "source": [
    "df.show(10)"
   ]
  },
  {
   "cell_type": "code",
   "execution_count": 274,
   "id": "secondary-visiting",
   "metadata": {},
   "outputs": [
    {
     "data": {
      "application/vnd.jupyter.widget-view+json": {
       "model_id": "8ab4a818617d43b895fcfb53e6a58b79",
       "version_major": 2,
       "version_minor": 0
      },
      "text/plain": [
       "VBox()"
      ]
     },
     "metadata": {},
     "output_type": "display_data"
    },
    {
     "data": {
      "application/vnd.jupyter.widget-view+json": {
       "model_id": "",
       "version_major": 2,
       "version_minor": 0
      },
      "text/plain": [
       "FloatProgress(value=0.0, bar_style='info', description='Progress:', layout=Layout(height='25px', width='50%'),…"
      ]
     },
     "metadata": {},
     "output_type": "display_data"
    },
    {
     "name": "stdout",
     "output_type": "stream",
     "text": [
      "hashDF: org.apache.spark.sql.DataFrame = [Tweets: string, Date: timestamp ... 3 more fields]\n"
     ]
    }
   ],
   "source": [
    "val hashDF = (\n",
    "    df.withColumn(\"splitedTweets\",split(col(\"Tweets\"),\" \"))\n",
    "    .withColumn(\"hashtags\",filter(col(\"splitedTweets\"),\n",
    "                                  (col: Column) => col.startsWith(\"#\"))\n",
    "               )\n",
    "    .withColumn(\"hashtags\",element_at(col(\"hashtags\"),1))\n",
    ")\n"
   ]
  },
  {
   "cell_type": "code",
   "execution_count": 275,
   "id": "decimal-gothic",
   "metadata": {},
   "outputs": [
    {
     "data": {
      "application/vnd.jupyter.widget-view+json": {
       "model_id": "4473c5833e294e798cad4c4efcc0706b",
       "version_major": 2,
       "version_minor": 0
      },
      "text/plain": [
       "VBox()"
      ]
     },
     "metadata": {},
     "output_type": "display_data"
    },
    {
     "data": {
      "application/vnd.jupyter.widget-view+json": {
       "model_id": "",
       "version_major": 2,
       "version_minor": 0
      },
      "text/plain": [
       "FloatProgress(value=0.0, bar_style='info', description='Progress:', layout=Layout(height='25px', width='50%'),…"
      ]
     },
     "metadata": {},
     "output_type": "display_data"
    },
    {
     "name": "stdout",
     "output_type": "stream",
     "text": [
      "res375: Long = 875944\n"
     ]
    }
   ],
   "source": [
    "// Quantos tweets com hashtag\n",
    "hashDF.filter(col(\"hashtags\").isNotNull).count()"
   ]
  },
  {
   "cell_type": "markdown",
   "id": "circular-chester",
   "metadata": {},
   "source": [
    "# 1 a) Quais foram as hashtags mais usadas pela manhã, tarde e noite?"
   ]
  },
  {
   "cell_type": "code",
   "execution_count": 282,
   "id": "median-parker",
   "metadata": {},
   "outputs": [
    {
     "data": {
      "application/vnd.jupyter.widget-view+json": {
       "model_id": "37515b18446844aca8b3bc7ad98f10bd",
       "version_major": 2,
       "version_minor": 0
      },
      "text/plain": [
       "VBox()"
      ]
     },
     "metadata": {},
     "output_type": "display_data"
    },
    {
     "data": {
      "application/vnd.jupyter.widget-view+json": {
       "model_id": "",
       "version_major": 2,
       "version_minor": 0
      },
      "text/plain": [
       "FloatProgress(value=0.0, bar_style='info', description='Progress:', layout=Layout(height='25px', width='50%'),…"
      ]
     },
     "metadata": {},
     "output_type": "display_data"
    },
    {
     "name": "stdout",
     "output_type": "stream",
     "text": [
      "+------------------------------+-----+\n",
      "|hashtags                      |count|\n",
      "+------------------------------+-----+\n",
      "|#EMABiggestFansJustinBieber   |23385|\n",
      "|#EMABiggestFans1D             |23058|\n",
      "|#VoteVampsTeenAwards          |736  |\n",
      "|#trndnl                       |603  |\n",
      "|#QueroNoTVZ                   |523  |\n",
      "|#AustinMahone                 |492  |\n",
      "|#TwOff                        |435  |\n",
      "|#EMABiggestFansJustinBieber\"\"\"|423  |\n",
      "|#EMABiggestFans1D\"            |416  |\n",
      "|#EMABiggestFansJustinBieber\"  |408  |\n",
      "|#EMABiggestFansJustinBieberᅠ  |401  |\n",
      "|#EMABiggestFans1D\"\"\"          |353  |\n",
      "|#bomdia                       |322  |\n",
      "|#BomDia                       |298  |\n",
      "|#NowIsGoodNaGlobo             |274  |\n",
      "+------------------------------+-----+\n",
      "only showing top 15 rows\n",
      "\n"
     ]
    }
   ],
   "source": [
    "// De manhã\n",
    "val df1AManha = (\n",
    "    hashDF.filter(\n",
    "        col(\"hashtags\").isNotNull\n",
    "    )\n",
    "    .filter(\n",
    "        hour(col(\"Date\")).between(5,12)\n",
    "    )\n",
    "    .groupBy(\"hashtags\")\n",
    "    .count()\n",
    "    .orderBy(desc(\"count\"))\n",
    ")\n",
    "\n",
    "saveCSV(df1AManha,\"s3://trab4-bucket/datasets/questoes/1/a_manha.csv\")\n",
    "\n",
    "df1AManha.show(15,false)"
   ]
  },
  {
   "cell_type": "code",
   "execution_count": 289,
   "id": "significant-sense",
   "metadata": {},
   "outputs": [
    {
     "data": {
      "application/vnd.jupyter.widget-view+json": {
       "model_id": "94e5947a5f634691a6075a1398ed4dc5",
       "version_major": 2,
       "version_minor": 0
      },
      "text/plain": [
       "VBox()"
      ]
     },
     "metadata": {},
     "output_type": "display_data"
    },
    {
     "data": {
      "application/vnd.jupyter.widget-view+json": {
       "model_id": "",
       "version_major": 2,
       "version_minor": 0
      },
      "text/plain": [
       "FloatProgress(value=0.0, bar_style='info', description='Progress:', layout=Layout(height='25px', width='50%'),…"
      ]
     },
     "metadata": {},
     "output_type": "display_data"
    },
    {
     "name": "stdout",
     "output_type": "stream",
     "text": [
      "df1ATarde: org.apache.spark.sql.Dataset[org.apache.spark.sql.Row] = [hashtags: string, count: bigint]\n",
      "+-----------------------------------+-----+\n",
      "|hashtags                           |count|\n",
      "+-----------------------------------+-----+\n",
      "|#EMABiggestFans1D                  |59270|\n",
      "|#EMABiggestFansJustinBieber        |50209|\n",
      "|#StealMyGirl                       |5476 |\n",
      "|#QueroNoTVZ                        |4266 |\n",
      "|#bigpaynodanceoff                  |1353 |\n",
      "|#EMABiggestFans1D\"                 |1284 |\n",
      "|#EMABiggestFansJustinBieber\"\"\"     |1283 |\n",
      "|#demiyourstorydoesntdefineyou      |961  |\n",
      "|#HottieOfTheWeek                   |875  |\n",
      "|#EMABiggestFansJustinBieber\"       |853  |\n",
      "|#AustinMahone                      |788  |\n",
      "|#LuanSantanaNaHoraDoFaro           |719  |\n",
      "|#EMABiggestFansArianaGrande        |714  |\n",
      "|#AMAs                              |693  |\n",
      "|#DomingoPreguiçosoDoSDVcomValentino|678  |\n",
      "+-----------------------------------+-----+\n",
      "only showing top 15 rows\n",
      "\n"
     ]
    }
   ],
   "source": [
    "// De tarde\n",
    "val df1ATarde = (\n",
    "    hashDF.filter(\n",
    "        col(\"hashtags\").isNotNull\n",
    "    )\n",
    "    .filter(\n",
    "        hour(col(\"Date\")).between(13,18)\n",
    "    )\n",
    "    .groupBy(\"hashtags\")\n",
    "    .count()\n",
    "    .orderBy(desc(\"count\"))\n",
    ")\n",
    "\n",
    "saveCSV(df1ATarde,\"s3://trab4-bucket/datasets/questoes/1/a_tarde.csv\")\n",
    "\n",
    "df1ATarde.show(15,false)"
   ]
  },
  {
   "cell_type": "code",
   "execution_count": 290,
   "id": "horizontal-framing",
   "metadata": {},
   "outputs": [
    {
     "data": {
      "application/vnd.jupyter.widget-view+json": {
       "model_id": "c41e33bab48041bf9d34ad1274e991bf",
       "version_major": 2,
       "version_minor": 0
      },
      "text/plain": [
       "VBox()"
      ]
     },
     "metadata": {},
     "output_type": "display_data"
    },
    {
     "data": {
      "application/vnd.jupyter.widget-view+json": {
       "model_id": "",
       "version_major": 2,
       "version_minor": 0
      },
      "text/plain": [
       "FloatProgress(value=0.0, bar_style='info', description='Progress:', layout=Layout(height='25px', width='50%'),…"
      ]
     },
     "metadata": {},
     "output_type": "display_data"
    },
    {
     "name": "stdout",
     "output_type": "stream",
     "text": [
      "df1ANoite: org.apache.spark.sql.Dataset[org.apache.spark.sql.Row] = [hashtags: string, count: bigint]\n",
      "+------------------------------+------+\n",
      "|hashtags                      |count |\n",
      "+------------------------------+------+\n",
      "|#EMABiggestFans1D             |114729|\n",
      "|#EMABiggestFansJustinBieber   |114277|\n",
      "|#camilasayshi                 |9043  |\n",
      "|#EMABiggestFansJustinBieber\"\"\"|3331  |\n",
      "|#DebateNoSBT                  |2773  |\n",
      "|#CartersNewVideo              |2681  |\n",
      "|#bigpaynodanceoff             |2476  |\n",
      "|#Vote5HEMA                    |2410  |\n",
      "|#TheVoiceBrasil               |2379  |\n",
      "|#LuanSantanaNaHoraDoFaro      |2191  |\n",
      "|#AssistamODR                  |2123  |\n",
      "|#EMABiggestFans1D\"            |2102  |\n",
      "|#EMABiggestFansJustinBieber\"  |2039  |\n",
      "|#DebateNaRecord               |1815  |\n",
      "|#LinkinParkNoMultishow        |1764  |\n",
      "+------------------------------+------+\n",
      "only showing top 15 rows\n",
      "\n"
     ]
    }
   ],
   "source": [
    "// De noite\n",
    "val df1ANoite = (\n",
    "    hashDF.filter(\n",
    "        col(\"hashtags\").isNotNull\n",
    "    )\n",
    "    .filter(\n",
    "        (hour(col(\"Date\")).between(19,23)) || (hour(col(\"Date\")).between(0,4))\n",
    "    )\n",
    "    .groupBy(\"hashtags\")\n",
    "    .count()\n",
    "    .orderBy(desc(\"count\"))\n",
    ")\n",
    "\n",
    "saveCSV(df1ANoite,\"s3://trab4-bucket/datasets/questoes/1/a_noite.csv\")\n",
    "\n",
    "df1ANoite.show(15,false)"
   ]
  },
  {
   "cell_type": "markdown",
   "id": "demographic-spring",
   "metadata": {},
   "source": [
    "# 1 b) Quais as hashtags mais usadas em cada dia?"
   ]
  },
  {
   "cell_type": "code",
   "execution_count": 291,
   "id": "electrical-elder",
   "metadata": {},
   "outputs": [
    {
     "data": {
      "application/vnd.jupyter.widget-view+json": {
       "model_id": "565325c059de49fd9675a1ea69adb9cc",
       "version_major": 2,
       "version_minor": 0
      },
      "text/plain": [
       "VBox()"
      ]
     },
     "metadata": {},
     "output_type": "display_data"
    },
    {
     "data": {
      "application/vnd.jupyter.widget-view+json": {
       "model_id": "",
       "version_major": 2,
       "version_minor": 0
      },
      "text/plain": [
       "FloatProgress(value=0.0, bar_style='info', description='Progress:', layout=Layout(height='25px', width='50%'),…"
      ]
     },
     "metadata": {},
     "output_type": "display_data"
    },
    {
     "name": "stdout",
     "output_type": "stream",
     "text": [
      "df1B15: org.apache.spark.sql.Dataset[org.apache.spark.sql.Row] = [hashtags: string, count: bigint]\n",
      "+----------------------------------+-----+\n",
      "|hashtags                          |count|\n",
      "+----------------------------------+-----+\n",
      "|#EMABiggestFans1D                 |29711|\n",
      "|#EMABiggestFansJustinBieber       |24981|\n",
      "|#StealMyGirl                      |5823 |\n",
      "|#bigpaynodanceoff                 |3737 |\n",
      "|#AssistamODR                      |2015 |\n",
      "|#BuyLoveMeHarderOniTunes          |1276 |\n",
      "|#UnlockMockingjay                 |1112 |\n",
      "|#Vote5HEMA                        |1058 |\n",
      "|#EMABiggestFansJustinBieber\"\"\"    |987  |\n",
      "|#QueroMuitosSeguidoresComValentino|807  |\n",
      "|#STEALMYGIRL                      |488  |\n",
      "|#EMABiggestFansJustinBieber”      |472  |\n",
      "|#EMABiggestFans5SOS               |469  |\n",
      "|#EMABiggestFansJustinBieber\"      |433  |\n",
      "|#StealMyGirI                      |397  |\n",
      "+----------------------------------+-----+\n",
      "only showing top 15 rows\n",
      "\n"
     ]
    }
   ],
   "source": [
    "//  15\n",
    "val df1B15 =(\n",
    "    hashDF.filter(\n",
    "        col(\"hashtags\").isNotNull\n",
    "    )\n",
    "    .filter(\n",
    "        dayofmonth(col(\"Date\")) === 15\n",
    "    )\n",
    "    .groupBy(\"hashtags\")\n",
    "    .count()\n",
    "    .orderBy(desc(\"count\"))\n",
    ")\n",
    "\n",
    "saveCSV(df1B15,\"s3://trab4-bucket/datasets/questoes/2/b_15.csv\")\n",
    "\n",
    "df1B15.show(15,false)"
   ]
  },
  {
   "cell_type": "code",
   "execution_count": 294,
   "id": "remarkable-warrior",
   "metadata": {},
   "outputs": [
    {
     "data": {
      "application/vnd.jupyter.widget-view+json": {
       "model_id": "6242ff8624844e5a87c73cd80a7a0fea",
       "version_major": 2,
       "version_minor": 0
      },
      "text/plain": [
       "VBox()"
      ]
     },
     "metadata": {},
     "output_type": "display_data"
    },
    {
     "data": {
      "application/vnd.jupyter.widget-view+json": {
       "model_id": "",
       "version_major": 2,
       "version_minor": 0
      },
      "text/plain": [
       "FloatProgress(value=0.0, bar_style='info', description='Progress:', layout=Layout(height='25px', width='50%'),…"
      ]
     },
     "metadata": {},
     "output_type": "display_data"
    },
    {
     "name": "stdout",
     "output_type": "stream",
     "text": [
      "df1B16: org.apache.spark.sql.Dataset[org.apache.spark.sql.Row] = [hashtags: string, count: bigint]\n",
      "+------------------------------+-----+\n",
      "|hashtags                      |count|\n",
      "+------------------------------+-----+\n",
      "|#EMABiggestFans1D             |63198|\n",
      "|#EMABiggestFansJustinBieber   |53203|\n",
      "|#camilasayshi                 |9087 |\n",
      "|#DebateNoSBT                  |2689 |\n",
      "|#CartersNewVideo              |2681 |\n",
      "|#AustinMahone                 |1420 |\n",
      "|#EMABiggestFansJustinBieber\"\"\"|1350 |\n",
      "|#EMABiggestFans1D\"            |1287 |\n",
      "|#MasterChefBR                 |1158 |\n",
      "|#EMABiggestFans1D\"\"\"          |1147 |\n",
      "|#HottieOfTheWeek              |1098 |\n",
      "|#EMABiggestFansJustinBieber\"  |1000 |\n",
      "|#askjadelittlemix             |989  |\n",
      "|#LuaBlancoNoAgoraETarde       |954  |\n",
      "|#camilasayhi                  |883  |\n",
      "+------------------------------+-----+\n",
      "only showing top 15 rows\n",
      "\n"
     ]
    }
   ],
   "source": [
    "//  16\n",
    "val df1B16 =(\n",
    "    hashDF.filter(\n",
    "        col(\"hashtags\").isNotNull\n",
    "    )\n",
    "    .filter(\n",
    "        dayofmonth(col(\"Date\")) === 16\n",
    "    )\n",
    "    .groupBy(\"hashtags\")\n",
    "    .count()\n",
    "    .orderBy(desc(\"count\"))\n",
    ")\n",
    "\n",
    "saveCSV(df1B16,\"s3://trab4-bucket/datasets/questoes/2/b_16.csv\")\n",
    "\n",
    "df1B16.show(15,false)"
   ]
  },
  {
   "cell_type": "code",
   "execution_count": 295,
   "id": "indirect-harbor",
   "metadata": {},
   "outputs": [
    {
     "data": {
      "application/vnd.jupyter.widget-view+json": {
       "model_id": "b162d615339544c2b54a7c69af0a8cc0",
       "version_major": 2,
       "version_minor": 0
      },
      "text/plain": [
       "VBox()"
      ]
     },
     "metadata": {},
     "output_type": "display_data"
    },
    {
     "data": {
      "application/vnd.jupyter.widget-view+json": {
       "model_id": "",
       "version_major": 2,
       "version_minor": 0
      },
      "text/plain": [
       "FloatProgress(value=0.0, bar_style='info', description='Progress:', layout=Layout(height='25px', width='50%'),…"
      ]
     },
     "metadata": {},
     "output_type": "display_data"
    },
    {
     "name": "stdout",
     "output_type": "stream",
     "text": [
      "df1B17: org.apache.spark.sql.Dataset[org.apache.spark.sql.Row] = [hashtags: string, count: bigint]\n",
      "+------------------------------+-----+\n",
      "|hashtags                      |count|\n",
      "+------------------------------+-----+\n",
      "|#EMABiggestFansJustinBieber   |44672|\n",
      "|#EMABiggestFans1D             |44050|\n",
      "|#QueroNoTVZ                   |2868 |\n",
      "|#TheVoiceBrasil               |2370 |\n",
      "|#FlyNoMixDiario               |1380 |\n",
      "|#EMABiggestFansJustinBieber\"\"\"|1334 |\n",
      "|#LançamentoDoClipeVocêSeFoiFLY|1316 |\n",
      "|#AustinMahone                 |1123 |\n",
      "|#EMABiggestFans1D\"            |904  |\n",
      "|#HottieOfTheWeek              |769  |\n",
      "|#SextaTodosSDVcomValentino    |725  |\n",
      "|#EMABiggestFansJustinBieber\"  |685  |\n",
      "|#ChristianNoEncontroComFatima |674  |\n",
      "|#AmorESexo                    |671  |\n",
      "|#flyNoMixdiario               |664  |\n",
      "+------------------------------+-----+\n",
      "only showing top 15 rows\n",
      "\n"
     ]
    }
   ],
   "source": [
    "//  17\n",
    "val df1B17 =(\n",
    "    hashDF.filter(\n",
    "        col(\"hashtags\").isNotNull\n",
    "    )\n",
    "    .filter(\n",
    "        dayofmonth(col(\"Date\")) === 17\n",
    "    )\n",
    "    .groupBy(\"hashtags\")\n",
    "    .count()\n",
    "    .orderBy(desc(\"count\"))\n",
    ")\n",
    "\n",
    "saveCSV(df1B17,\"s3://trab4-bucket/datasets/questoes/2/b_17.csv\")\n",
    "\n",
    "df1B17.show(15,false)"
   ]
  },
  {
   "cell_type": "code",
   "execution_count": 296,
   "id": "characteristic-liechtenstein",
   "metadata": {},
   "outputs": [
    {
     "data": {
      "application/vnd.jupyter.widget-view+json": {
       "model_id": "14a68a7f30834bd78fcaef0addb51271",
       "version_major": 2,
       "version_minor": 0
      },
      "text/plain": [
       "VBox()"
      ]
     },
     "metadata": {},
     "output_type": "display_data"
    },
    {
     "data": {
      "application/vnd.jupyter.widget-view+json": {
       "model_id": "",
       "version_major": 2,
       "version_minor": 0
      },
      "text/plain": [
       "FloatProgress(value=0.0, bar_style='info', description='Progress:', layout=Layout(height='25px', width='50%'),…"
      ]
     },
     "metadata": {},
     "output_type": "display_data"
    },
    {
     "name": "stdout",
     "output_type": "stream",
     "text": [
      "df1B18: org.apache.spark.sql.Dataset[org.apache.spark.sql.Row] = [hashtags: string, count: bigint]\n",
      "+------------------------------+-----+\n",
      "|hashtags                      |count|\n",
      "+------------------------------+-----+\n",
      "|#EMABiggestFans1D             |25039|\n",
      "|#EMABiggestFansJustinBieber   |24936|\n",
      "|#QueroNoTVZ                   |2336 |\n",
      "|#demiyourstorydoesntdefineyou |952  |\n",
      "|#WeWantZaynsSongsInFOUR       |700  |\n",
      "|#MaratonaTwilight             |672  |\n",
      "|#SigaTiuMarkitoNesseSabadoSdv |592  |\n",
      "|#trndnl                       |591  |\n",
      "|#EMABiggestFans1D\"            |570  |\n",
      "|#EMABiggestFansJustinBieber\"\"\"|526  |\n",
      "|#premiomultishow              |447  |\n",
      "|#AMAs                         |420  |\n",
      "|#MCGuimeNoRaulGil             |374  |\n",
      "|#KCAArgentina                 |365  |\n",
      "|#EMABiggestFansJustinBieber\"  |359  |\n",
      "+------------------------------+-----+\n",
      "only showing top 15 rows\n",
      "\n"
     ]
    }
   ],
   "source": [
    "//  18\n",
    "val df1B18 =(\n",
    "    hashDF.filter(\n",
    "        col(\"hashtags\").isNotNull\n",
    "    )\n",
    "    .filter(\n",
    "        dayofmonth(col(\"Date\")) === 18\n",
    "    )\n",
    "    .groupBy(\"hashtags\")\n",
    "    .count()\n",
    "    .orderBy(desc(\"count\"))\n",
    ")\n",
    "\n",
    "saveCSV(df1B18,\"s3://trab4-bucket/datasets/questoes/2/b_18.csv\")\n",
    "\n",
    "df1B18.show(15,false)"
   ]
  },
  {
   "cell_type": "code",
   "execution_count": 297,
   "id": "swedish-equivalent",
   "metadata": {},
   "outputs": [
    {
     "data": {
      "application/vnd.jupyter.widget-view+json": {
       "model_id": "6bd9a98e40bf42a484bb20f7410709ad",
       "version_major": 2,
       "version_minor": 0
      },
      "text/plain": [
       "VBox()"
      ]
     },
     "metadata": {},
     "output_type": "display_data"
    },
    {
     "data": {
      "application/vnd.jupyter.widget-view+json": {
       "model_id": "",
       "version_major": 2,
       "version_minor": 0
      },
      "text/plain": [
       "FloatProgress(value=0.0, bar_style='info', description='Progress:', layout=Layout(height='25px', width='50%'),…"
      ]
     },
     "metadata": {},
     "output_type": "display_data"
    },
    {
     "name": "stdout",
     "output_type": "stream",
     "text": [
      "df1B19: org.apache.spark.sql.Dataset[org.apache.spark.sql.Row] = [hashtags: string, count: bigint]\n",
      "+-----------------------------------+-----+\n",
      "|hashtags                           |count|\n",
      "+-----------------------------------+-----+\n",
      "|#EMABiggestFansJustinBieber        |30375|\n",
      "|#EMABiggestFans1D                  |27948|\n",
      "|#LuanSantanaNaHoraDoFaro           |2910 |\n",
      "|#LinkinParkNoMultishow             |1767 |\n",
      "|#demiyourstorydoesntdefineyou      |1150 |\n",
      "|#VoteVampsTeenAwards               |881  |\n",
      "|#ComeToBrazilMattEspinosa          |845  |\n",
      "|#DomingoPreguiçosoDoSDVcomValentino|820  |\n",
      "|#ChatApimentadoDoBiel              |698  |\n",
      "|#EMABiggestFansJustinBieber\"       |680  |\n",
      "|#EMABiggestFansJustinBieber\"\"\"     |638  |\n",
      "|#VamosLaU                          |616  |\n",
      "|#trndnl                            |574  |\n",
      "|#AcreditamosEmVoceLL               |561  |\n",
      "|#FOLLOWMELOHANTHONY                |557  |\n",
      "+-----------------------------------+-----+\n",
      "only showing top 15 rows\n",
      "\n"
     ]
    }
   ],
   "source": [
    "//  19\n",
    "val df1B19 =(\n",
    "    hashDF.filter(\n",
    "        col(\"hashtags\").isNotNull\n",
    "    )\n",
    "    .filter(\n",
    "        dayofmonth(col(\"Date\")) === 19\n",
    "    )\n",
    "    .groupBy(\"hashtags\")\n",
    "    .count()\n",
    "    .orderBy(desc(\"count\"))\n",
    ")\n",
    "\n",
    "saveCSV(df1B19,\"s3://trab4-bucket/datasets/questoes/2/b_19.csv\")\n",
    "\n",
    "df1B19.show(15,false)"
   ]
  },
  {
   "cell_type": "code",
   "execution_count": 298,
   "id": "heated-twins",
   "metadata": {},
   "outputs": [
    {
     "data": {
      "application/vnd.jupyter.widget-view+json": {
       "model_id": "ac9f530457204bc982fe3738fabe8847",
       "version_major": 2,
       "version_minor": 0
      },
      "text/plain": [
       "VBox()"
      ]
     },
     "metadata": {},
     "output_type": "display_data"
    },
    {
     "data": {
      "application/vnd.jupyter.widget-view+json": {
       "model_id": "",
       "version_major": 2,
       "version_minor": 0
      },
      "text/plain": [
       "FloatProgress(value=0.0, bar_style='info', description='Progress:', layout=Layout(height='25px', width='50%'),…"
      ]
     },
     "metadata": {},
     "output_type": "display_data"
    },
    {
     "name": "stdout",
     "output_type": "stream",
     "text": [
      "df1B20: org.apache.spark.sql.Dataset[org.apache.spark.sql.Row] = [hashtags: string, count: bigint]\n",
      "+---------------------------+-----+\n",
      "|hashtags                   |count|\n",
      "+---------------------------+-----+\n",
      "|#EMABiggestFansJustinBieber|9704 |\n",
      "|#EMABiggestFans1D          |7111 |\n",
      "|#DebateNaRecord            |1760 |\n",
      "|#debatenarecord            |1556 |\n",
      "|#QueroDilmaTreze           |1418 |\n",
      "|#EmTodoBrasilAecio45       |638  |\n",
      "|#AecioEmTodoBrasil         |607  |\n",
      "|#CongratsOn1MChris         |447  |\n",
      "|#Los80                     |381  |\n",
      "|#PreOrderVampsUSA          |363  |\n",
      "|#KCAArgentina              |320  |\n",
      "|#twdstrangers              |315  |\n",
      "|#austinmahonechile         |281  |\n",
      "|#BuyNobodyOniTunes         |280  |\n",
      "|#NoEntiendo                |247  |\n",
      "+---------------------------+-----+\n",
      "only showing top 15 rows\n",
      "\n"
     ]
    }
   ],
   "source": [
    "//  20\n",
    "val df1B20 =(\n",
    "    hashDF.filter(\n",
    "        col(\"hashtags\").isNotNull\n",
    "    )\n",
    "    .filter(\n",
    "        dayofmonth(col(\"Date\")) === 20\n",
    "    )\n",
    "    .groupBy(\"hashtags\")\n",
    "    .count()\n",
    "    .orderBy(desc(\"count\"))\n",
    ")\n",
    "\n",
    "saveCSV(df1B20,\"s3://trab4-bucket/datasets/questoes/2/b_20.csv\")\n",
    "\n",
    "df1B20.show(15,false)"
   ]
  },
  {
   "cell_type": "markdown",
   "id": "outer-nerve",
   "metadata": {},
   "source": [
    "# 1 c) Qual o número de tweets por hora a cada dia?"
   ]
  },
  {
   "cell_type": "code",
   "execution_count": 309,
   "id": "impressive-disability",
   "metadata": {},
   "outputs": [
    {
     "data": {
      "application/vnd.jupyter.widget-view+json": {
       "model_id": "bf1e928a8ea7409e978c65c27db2e932",
       "version_major": 2,
       "version_minor": 0
      },
      "text/plain": [
       "VBox()"
      ]
     },
     "metadata": {},
     "output_type": "display_data"
    },
    {
     "data": {
      "application/vnd.jupyter.widget-view+json": {
       "model_id": "",
       "version_major": 2,
       "version_minor": 0
      },
      "text/plain": [
       "FloatProgress(value=0.0, bar_style='info', description='Progress:', layout=Layout(height='25px', width='50%'),…"
      ]
     },
     "metadata": {},
     "output_type": "display_data"
    },
    {
     "name": "stdout",
     "output_type": "stream",
     "text": [
      "df1C15: org.apache.spark.sql.Dataset[org.apache.spark.sql.Row] = [Hora: int, count(Tweets): bigint]\n",
      "+----+-------------+\n",
      "|Hora|count(Tweets)|\n",
      "+----+-------------+\n",
      "|14  |34378        |\n",
      "|15  |79157        |\n",
      "|16  |78353        |\n",
      "|17  |83950        |\n",
      "|18  |77713        |\n",
      "|19  |65095        |\n",
      "|20  |66813        |\n",
      "|21  |79270        |\n",
      "|22  |86030        |\n",
      "|23  |97574        |\n",
      "+----+-------------+\n",
      "\n"
     ]
    }
   ],
   "source": [
    "//  15\n",
    "\n",
    "val df1C15 = (\n",
    "    hashDF.filter(\n",
    "        dayofmonth(col(\"Date\")) === 15\n",
    "    )\n",
    "    .withColumn(\"Hora\",hour(col(\"Date\")))\n",
    "    .groupBy(\"Hora\")\n",
    "    .agg(count(\"Tweets\"))\n",
    "    .orderBy(asc(\"Hora\"))\n",
    ")\n",
    "\n",
    "saveCSV(df1C15,\"s3://trab4-bucket/datasets/questoes/1/c_15.csv\",limit = 25)\n",
    "\n",
    "df1C15.show(25,false)"
   ]
  },
  {
   "cell_type": "code",
   "execution_count": 310,
   "id": "modular-belly",
   "metadata": {},
   "outputs": [
    {
     "data": {
      "application/vnd.jupyter.widget-view+json": {
       "model_id": "7f968a792f5047fe945144c96dbbe096",
       "version_major": 2,
       "version_minor": 0
      },
      "text/plain": [
       "VBox()"
      ]
     },
     "metadata": {},
     "output_type": "display_data"
    },
    {
     "data": {
      "application/vnd.jupyter.widget-view+json": {
       "model_id": "",
       "version_major": 2,
       "version_minor": 0
      },
      "text/plain": [
       "FloatProgress(value=0.0, bar_style='info', description='Progress:', layout=Layout(height='25px', width='50%'),…"
      ]
     },
     "metadata": {},
     "output_type": "display_data"
    },
    {
     "name": "stdout",
     "output_type": "stream",
     "text": [
      "df1C16: org.apache.spark.sql.Dataset[org.apache.spark.sql.Row] = [Hora: int, count(Tweets): bigint]\n",
      "+----+-------------+\n",
      "|Hora|count(Tweets)|\n",
      "+----+-------------+\n",
      "|0   |110232       |\n",
      "|1   |163338       |\n",
      "|2   |176211       |\n",
      "|3   |124599       |\n",
      "|4   |77743        |\n",
      "|5   |42661        |\n",
      "|6   |22228        |\n",
      "|7   |10157        |\n",
      "|8   |8327         |\n",
      "|9   |23616        |\n",
      "|10  |37528        |\n",
      "|11  |42716        |\n",
      "|12  |49156        |\n",
      "|13  |55958        |\n",
      "|14  |66154        |\n",
      "|15  |76891        |\n",
      "|16  |79276        |\n",
      "|17  |65824        |\n",
      "|18  |57098        |\n",
      "|19  |58547        |\n",
      "|20  |68148        |\n",
      "|21  |88473        |\n",
      "|22  |99443        |\n",
      "|23  |93350        |\n",
      "+----+-------------+\n",
      "\n"
     ]
    }
   ],
   "source": [
    "//  16\n",
    "\n",
    "val df1C16 = (\n",
    "    hashDF.filter(\n",
    "        dayofmonth(col(\"Date\")) === 16\n",
    "    )\n",
    "    .withColumn(\"Hora\",hour(col(\"Date\")))\n",
    "    .groupBy(\"Hora\")\n",
    "    .agg(count(\"Tweets\"))\n",
    "    .orderBy(asc(\"Hora\"))\n",
    ")\n",
    "\n",
    "saveCSV(df1C16,\"s3://trab4-bucket/datasets/questoes/1/c_16.csv\",limit = 25)\n",
    "\n",
    "df1C16.show(25,false)"
   ]
  },
  {
   "cell_type": "code",
   "execution_count": 311,
   "id": "adaptive-approach",
   "metadata": {},
   "outputs": [
    {
     "data": {
      "application/vnd.jupyter.widget-view+json": {
       "model_id": "58c8be0084b3426691f1c18405d38f15",
       "version_major": 2,
       "version_minor": 0
      },
      "text/plain": [
       "VBox()"
      ]
     },
     "metadata": {},
     "output_type": "display_data"
    },
    {
     "data": {
      "application/vnd.jupyter.widget-view+json": {
       "model_id": "",
       "version_major": 2,
       "version_minor": 0
      },
      "text/plain": [
       "FloatProgress(value=0.0, bar_style='info', description='Progress:', layout=Layout(height='25px', width='50%'),…"
      ]
     },
     "metadata": {},
     "output_type": "display_data"
    },
    {
     "name": "stdout",
     "output_type": "stream",
     "text": [
      "df1C17: org.apache.spark.sql.Dataset[org.apache.spark.sql.Row] = [Hora: int, count(Tweets): bigint]\n",
      "+----+-------------+\n",
      "|Hora|count(Tweets)|\n",
      "+----+-------------+\n",
      "|0   |107984       |\n",
      "|1   |142770       |\n",
      "|2   |153981       |\n",
      "|3   |122205       |\n",
      "|4   |76951        |\n",
      "|5   |42222        |\n",
      "|6   |20985        |\n",
      "|7   |10695        |\n",
      "|8   |8016         |\n",
      "|9   |20559        |\n",
      "|10  |35147        |\n",
      "|11  |40918        |\n",
      "|12  |48140        |\n",
      "|13  |59851        |\n",
      "|14  |66972        |\n",
      "|15  |74748        |\n",
      "|16  |74909        |\n",
      "|17  |65007        |\n",
      "|18  |58841        |\n",
      "|19  |57831        |\n",
      "|20  |65602        |\n",
      "|21  |53146        |\n",
      "|22  |53497        |\n",
      "|23  |54053        |\n",
      "+----+-------------+\n",
      "\n"
     ]
    }
   ],
   "source": [
    "//  17\n",
    "\n",
    "val df1C17 = (\n",
    "    hashDF.filter(\n",
    "        dayofmonth(col(\"Date\")) === 17\n",
    "    )\n",
    "    .withColumn(\"Hora\",hour(col(\"Date\")))\n",
    "    .groupBy(\"Hora\")\n",
    "    .agg(count(\"Tweets\"))\n",
    "    .orderBy(asc(\"Hora\"))\n",
    ")\n",
    "\n",
    "saveCSV(df1C17,\"s3://trab4-bucket/datasets/questoes/1/c_17.csv\",limit = 25)\n",
    "\n",
    "df1C17.show(25,false)"
   ]
  },
  {
   "cell_type": "code",
   "execution_count": 312,
   "id": "tropical-olive",
   "metadata": {},
   "outputs": [
    {
     "data": {
      "application/vnd.jupyter.widget-view+json": {
       "model_id": "eb7799abda2447f095b2c85e3cddd635",
       "version_major": 2,
       "version_minor": 0
      },
      "text/plain": [
       "VBox()"
      ]
     },
     "metadata": {},
     "output_type": "display_data"
    },
    {
     "data": {
      "application/vnd.jupyter.widget-view+json": {
       "model_id": "",
       "version_major": 2,
       "version_minor": 0
      },
      "text/plain": [
       "FloatProgress(value=0.0, bar_style='info', description='Progress:', layout=Layout(height='25px', width='50%'),…"
      ]
     },
     "metadata": {},
     "output_type": "display_data"
    },
    {
     "name": "stdout",
     "output_type": "stream",
     "text": [
      "df1C18: org.apache.spark.sql.Dataset[org.apache.spark.sql.Row] = [Hora: int, count(Tweets): bigint]\n",
      "+----+-------------+\n",
      "|Hora|count(Tweets)|\n",
      "+----+-------------+\n",
      "|0   |55404        |\n",
      "|1   |61050        |\n",
      "|2   |63501        |\n",
      "|3   |56562        |\n",
      "|4   |42778        |\n",
      "|5   |37148        |\n",
      "|6   |27473        |\n",
      "|7   |17724        |\n",
      "|8   |12108        |\n",
      "|9   |11539        |\n",
      "|10  |17456        |\n",
      "|11  |27491        |\n",
      "|12  |41485        |\n",
      "|13  |58383        |\n",
      "|14  |71402        |\n",
      "|15  |75206        |\n",
      "|16  |72334        |\n",
      "|17  |69001        |\n",
      "|18  |63700        |\n",
      "|19  |61727        |\n",
      "|20  |59165        |\n",
      "|21  |60665        |\n",
      "|22  |65102        |\n",
      "|23  |68663        |\n",
      "+----+-------------+\n",
      "\n"
     ]
    }
   ],
   "source": [
    "//  18\n",
    "\n",
    "val df1C18 = (\n",
    "    hashDF.filter(\n",
    "        dayofmonth(col(\"Date\")) === 18\n",
    "    )\n",
    "    .withColumn(\"Hora\",hour(col(\"Date\")))\n",
    "    .groupBy(\"Hora\")\n",
    "    .agg(count(\"Tweets\"))\n",
    "    .orderBy(asc(\"Hora\"))\n",
    ")\n",
    "\n",
    "saveCSV(df1C18,\"s3://trab4-bucket/datasets/questoes/1/c_18.csv\",limit = 25)\n",
    "\n",
    "df1C18.show(25,false)"
   ]
  },
  {
   "cell_type": "code",
   "execution_count": 313,
   "id": "fifty-banking",
   "metadata": {},
   "outputs": [
    {
     "data": {
      "application/vnd.jupyter.widget-view+json": {
       "model_id": "57600432297a4769bfef047276c6e628",
       "version_major": 2,
       "version_minor": 0
      },
      "text/plain": [
       "VBox()"
      ]
     },
     "metadata": {},
     "output_type": "display_data"
    },
    {
     "data": {
      "application/vnd.jupyter.widget-view+json": {
       "model_id": "",
       "version_major": 2,
       "version_minor": 0
      },
      "text/plain": [
       "FloatProgress(value=0.0, bar_style='info', description='Progress:', layout=Layout(height='25px', width='50%'),…"
      ]
     },
     "metadata": {},
     "output_type": "display_data"
    },
    {
     "name": "stdout",
     "output_type": "stream",
     "text": [
      "df1C19: org.apache.spark.sql.Dataset[org.apache.spark.sql.Row] = [Hora: int, count(Tweets): bigint]\n",
      "+----+-------------+\n",
      "|Hora|count(Tweets)|\n",
      "+----+-------------+\n",
      "|0   |73049        |\n",
      "|1   |80626        |\n",
      "|2   |89885        |\n",
      "|3   |97575        |\n",
      "|4   |77489        |\n",
      "|5   |55958        |\n",
      "|6   |40591        |\n",
      "|7   |22988        |\n",
      "|8   |16698        |\n",
      "|9   |13707        |\n",
      "|10  |15743        |\n",
      "|11  |22588        |\n",
      "|12  |38047        |\n",
      "|13  |55888        |\n",
      "|14  |69949        |\n",
      "|15  |75866        |\n",
      "|16  |76299        |\n",
      "|17  |73534        |\n",
      "|18  |80192        |\n",
      "|19  |77265        |\n",
      "|20  |75453        |\n",
      "|21  |77033        |\n",
      "|22  |86629        |\n",
      "|23  |95083        |\n",
      "+----+-------------+\n",
      "\n"
     ]
    }
   ],
   "source": [
    "//  19\n",
    "\n",
    "val df1C19 = (\n",
    "    hashDF.filter(\n",
    "        dayofmonth(col(\"Date\")) === 19\n",
    "    )\n",
    "    .withColumn(\"Hora\",hour(col(\"Date\")))\n",
    "    .groupBy(\"Hora\")\n",
    "    .agg(count(\"Tweets\"))\n",
    "    .orderBy(asc(\"Hora\"))\n",
    ")\n",
    "\n",
    "saveCSV(df1C19,\"s3://trab4-bucket/datasets/questoes/1/c_19.csv\",limit = 25)\n",
    "\n",
    "df1C19.show(25,false)"
   ]
  },
  {
   "cell_type": "code",
   "execution_count": 314,
   "id": "voluntary-potter",
   "metadata": {},
   "outputs": [
    {
     "data": {
      "application/vnd.jupyter.widget-view+json": {
       "model_id": "b459df21842f407bbfc1f2a73b91cd77",
       "version_major": 2,
       "version_minor": 0
      },
      "text/plain": [
       "VBox()"
      ]
     },
     "metadata": {},
     "output_type": "display_data"
    },
    {
     "data": {
      "application/vnd.jupyter.widget-view+json": {
       "model_id": "",
       "version_major": 2,
       "version_minor": 0
      },
      "text/plain": [
       "FloatProgress(value=0.0, bar_style='info', description='Progress:', layout=Layout(height='25px', width='50%'),…"
      ]
     },
     "metadata": {},
     "output_type": "display_data"
    },
    {
     "name": "stdout",
     "output_type": "stream",
     "text": [
      "df1C20: org.apache.spark.sql.Dataset[org.apache.spark.sql.Row] = [Hora: int, count(Tweets): bigint]\n",
      "+----+-------------+\n",
      "|Hora|count(Tweets)|\n",
      "+----+-------------+\n",
      "|0   |123610       |\n",
      "|1   |134555       |\n",
      "|2   |124997       |\n",
      "|3   |92015        |\n",
      "|4   |57005        |\n",
      "|5   |29497        |\n",
      "|6   |14504        |\n",
      "|7   |4922         |\n",
      "+----+-------------+\n",
      "\n"
     ]
    }
   ],
   "source": [
    "//  20\n",
    "\n",
    "val df1C20 = (\n",
    "    hashDF.filter(\n",
    "        dayofmonth(col(\"Date\")) === 20\n",
    "    )\n",
    "    .withColumn(\"Hora\",hour(col(\"Date\")))\n",
    "    .groupBy(\"Hora\")\n",
    "    .agg(count(\"Tweets\"))\n",
    "    .orderBy(asc(\"Hora\"))\n",
    ")\n",
    "\n",
    "saveCSV(df1C20,\"s3://trab4-bucket/datasets/questoes/1/c_20.csv\",limit = 25)\n",
    "\n",
    "df1C20.show(25,false)"
   ]
  },
  {
   "cell_type": "markdown",
   "id": "intense-geometry",
   "metadata": {},
   "source": [
    "# 1 d) Quais as principais sentenças relacionadas à palavra “Dilma”?"
   ]
  },
  {
   "cell_type": "code",
   "execution_count": 307,
   "id": "amateur-universe",
   "metadata": {},
   "outputs": [
    {
     "data": {
      "application/vnd.jupyter.widget-view+json": {
       "model_id": "d04f7ab05d4e4f65a60fcefd0f187194",
       "version_major": 2,
       "version_minor": 0
      },
      "text/plain": [
       "VBox()"
      ]
     },
     "metadata": {},
     "output_type": "display_data"
    },
    {
     "data": {
      "application/vnd.jupyter.widget-view+json": {
       "model_id": "",
       "version_major": 2,
       "version_minor": 0
      },
      "text/plain": [
       "FloatProgress(value=0.0, bar_style='info', description='Progress:', layout=Layout(height='25px', width='50%'),…"
      ]
     },
     "metadata": {},
     "output_type": "display_data"
    },
    {
     "name": "stdout",
     "output_type": "stream",
     "text": [
      "splitOnLength: (len: Int)org.apache.spark.sql.expressions.UserDefinedFunction\n"
     ]
    }
   ],
   "source": [
    "def splitOnLength(len: Int) = udf(\n",
    "    (str: String) => {\n",
    "  str.grouped(len).toSeq\n",
    "})\n"
   ]
  },
  {
   "cell_type": "code",
   "execution_count": 315,
   "id": "hindu-objective",
   "metadata": {},
   "outputs": [
    {
     "data": {
      "application/vnd.jupyter.widget-view+json": {
       "model_id": "34cbd6df1ea14ecf80e6159436cb1a8b",
       "version_major": 2,
       "version_minor": 0
      },
      "text/plain": [
       "VBox()"
      ]
     },
     "metadata": {},
     "output_type": "display_data"
    },
    {
     "data": {
      "application/vnd.jupyter.widget-view+json": {
       "model_id": "",
       "version_major": 2,
       "version_minor": 0
      },
      "text/plain": [
       "FloatProgress(value=0.0, bar_style='info', description='Progress:', layout=Layout(height='25px', width='50%'),…"
      ]
     },
     "metadata": {},
     "output_type": "display_data"
    },
    {
     "name": "stdout",
     "output_type": "stream",
     "text": [
      "threshold: Int = 40\n",
      "DFDilma: org.apache.spark.sql.Dataset[org.apache.spark.sql.Row] = [Sentenca Dilma: string, count: bigint]\n",
      "+----------------------------------------+-----+\n",
      "|Sentenca Dilma                          |count|\n",
      "+----------------------------------------+-----+\n",
      "|No debate de hj, Dilma foi orientada pel|12   |\n",
      "|Relatórios usados por Dilma para critica|10   |\n",
      "|Dilma que fala tanto em um projeto de se|9    |\n",
      "|em sobre Dilma. A previsão é que ele ven|8    |\n",
      "|@os_deminas @BlogDilmaBR2 @jossimarfaria|7    |\n",
      "|1. #QueroDilmaTreze 2. #EmTodoBrasilAeci|7    |\n",
      "|Se eu fosse a Dilma sabendo que iria fic|7    |\n",
      "|Dilma perde o rumo no meio da entrevista|7    |\n",
      "|No debate Dilma Rousseff está pensando q|7    |\n",
      "|Só pra lembrar: Aécio 45 Dilma 13 CPM 22|6    |\n",
      "|NANCIOU CAMPANHA DE DILMA. É O MAR DE LA|6    |\n",
      "|— Dilma ou Aécio? — Dois hambúrgueres, a|6    |\n",
      "|\"\"\"@folha_com: Dos 22 anúncios de Dilma |5    |\n",
      "|@JairoRochaFilho @JornalOGlobo @dilmabr |5    |\n",
      "|\"\"\"@dilmabr: Tive uma leve queda de pres|5    |\n",
      "+----------------------------------------+-----+\n",
      "only showing top 15 rows\n",
      "\n"
     ]
    }
   ],
   "source": [
    "val threshold = 40\n",
    "val DFDilma = (\n",
    "    hashDF\n",
    "    .withColumn(\"Splited\",splitOnLength(threshold)(col(\"Tweets\")))\n",
    "    .withColumn(\"Sentenca Dilma\",\n",
    "                            filter(\n",
    "                                col(\"Splited\"),\n",
    "                                (col: Column) => length(col) === threshold\n",
    "                            ))\n",
    "    .withColumn(\"Sentenca Dilma\",\n",
    "                            filter(\n",
    "                                col(\"Sentenca Dilma\"),\n",
    "                                (col: Column) => lower(col).contains(\"dilma\")\n",
    "                            ))\n",
    "    .withColumn(\"Sentenca Dilma\",element_at(col(\"Sentenca Dilma\"),1))\n",
    "    .filter(\n",
    "        col(\"Sentenca Dilma\").isNotNull && !trim(col(\"Sentenca Dilma\")).startsWith(\"#\")\n",
    "    )\n",
    "    .groupBy(\"Sentenca Dilma\")\n",
    "    .count()\n",
    "    .orderBy(desc(\"count\"))\n",
    ")\n",
    "\n",
    "saveCSV(DFDilma,\"s3://trab4-bucket/datasets/questoes/1/d_dilma.csv\")\n",
    "\n",
    "DFDilma.show(15,false)"
   ]
  },
  {
   "cell_type": "markdown",
   "id": "compatible-number",
   "metadata": {},
   "source": [
    "# 1 e) Quais as principais sentenças relacionadas à palavra “Aécio”?"
   ]
  },
  {
   "cell_type": "code",
   "execution_count": 316,
   "id": "rational-extent",
   "metadata": {},
   "outputs": [
    {
     "data": {
      "application/vnd.jupyter.widget-view+json": {
       "model_id": "895bb7cffb35434a96502b8a4cc3cab8",
       "version_major": 2,
       "version_minor": 0
      },
      "text/plain": [
       "VBox()"
      ]
     },
     "metadata": {},
     "output_type": "display_data"
    },
    {
     "data": {
      "application/vnd.jupyter.widget-view+json": {
       "model_id": "",
       "version_major": 2,
       "version_minor": 0
      },
      "text/plain": [
       "FloatProgress(value=0.0, bar_style='info', description='Progress:', layout=Layout(height='25px', width='50%'),…"
      ]
     },
     "metadata": {},
     "output_type": "display_data"
    },
    {
     "name": "stdout",
     "output_type": "stream",
     "text": [
      "splitOnLengthSwitchE: (len: Int)org.apache.spark.sql.expressions.UserDefinedFunction\n"
     ]
    }
   ],
   "source": [
    "def splitOnLengthSwitchE(len: Int) = udf(\n",
    "    (str: String) => {\n",
    "  str.replace(\"aécio\", \"aecio\").replace(\"Aécio\", \"Aecio\").grouped(len).toSeq\n",
    "})"
   ]
  },
  {
   "cell_type": "code",
   "execution_count": 317,
   "id": "driven-litigation",
   "metadata": {},
   "outputs": [
    {
     "data": {
      "application/vnd.jupyter.widget-view+json": {
       "model_id": "aa374bd312b04a26ac78d49e42262a85",
       "version_major": 2,
       "version_minor": 0
      },
      "text/plain": [
       "VBox()"
      ]
     },
     "metadata": {},
     "output_type": "display_data"
    },
    {
     "data": {
      "application/vnd.jupyter.widget-view+json": {
       "model_id": "",
       "version_major": 2,
       "version_minor": 0
      },
      "text/plain": [
       "FloatProgress(value=0.0, bar_style='info', description='Progress:', layout=Layout(height='25px', width='50%'),…"
      ]
     },
     "metadata": {},
     "output_type": "display_data"
    },
    {
     "name": "stdout",
     "output_type": "stream",
     "text": [
      "threshold: Int = 40\n",
      "DFAecio: org.apache.spark.sql.Dataset[org.apache.spark.sql.Row] = [Sentenca Aecio: string, count: bigint]\n",
      "+----------------------------------------+-----+\n",
      "|Sentenca Aecio                          |count|\n",
      "+----------------------------------------+-----+\n",
      "|r Aecio somem do site do TCE http://t.co|10   |\n",
      "|Segundo pesquisa Aecio lidera com vantag|8    |\n",
      "|@Prjuliocpc @MariaLuciadeJe3 @AecioNeves|8    |\n",
      "| no Debate do SBT por Aecio Neves http:/|8    |\n",
      "| como sendo da esposa de Aecio. Quanta p|8    |\n",
      "|Pressionada por Aecio no debate do SBT, |7    |\n",
      "|vo no Debate do SBT por Aecio Neves http|7    |\n",
      "|Você sabia que o 'Aecio' manteve-se dura|6    |\n",
      "|@neyleprevost @pricilamarikoch @AecioNev|6    |\n",
      "|Aos meus amigos que votarão em Aecio htt|6    |\n",
      "|O governo @AecioNeves vai levar tecnolog|6    |\n",
      "|— Dilma ou Aecio? — Dois hambúrgueres, a|6    |\n",
      "|@AecioNeves Mentiroso estava sentadinho |6    |\n",
      "|vivo no Debate do SBT por Aecio Neves ht|6    |\n",
      "|Só pra lembrar: Aecio 45 Dilma 13 CPM 22|6    |\n",
      "+----------------------------------------+-----+\n",
      "only showing top 15 rows\n",
      "\n"
     ]
    }
   ],
   "source": [
    "val threshold = 40\n",
    "val DFAecio = (\n",
    "    hashDF\n",
    "    .withColumn(\"Splited\",splitOnLengthSwitchE(threshold)(col(\"Tweets\")))\n",
    "    .withColumn(\"Sentenca Aecio\",\n",
    "                            filter(\n",
    "                                col(\"Splited\"),\n",
    "                                (col: Column) => length(col) === threshold\n",
    "                            ))\n",
    "    .withColumn(\"Sentenca Aecio\",\n",
    "                            filter(\n",
    "                                col(\"Sentenca Aecio\"),\n",
    "                                (col: Column) => lower(col).contains(\"aecio\")\n",
    "                            ))\n",
    "    .withColumn(\"Sentenca Aecio\",element_at(col(\"Sentenca Aecio\"),1))\n",
    "    .filter(\n",
    "        col(\"Sentenca Aecio\").isNotNull && !trim(col(\"Sentenca Aecio\")).startsWith(\"#\")\n",
    "    )\n",
    "    .groupBy(\"Sentenca Aecio\")\n",
    "    .count()\n",
    "    .orderBy(desc(\"count\"))\n",
    ")\n",
    "\n",
    "\n",
    "saveCSV(DFAecio,\"s3://trab4-bucket/datasets/questoes/1/d_aecio.csv\")\n",
    "\n",
    "DFAecio.show(15,false)\n"
   ]
  },
  {
   "cell_type": "markdown",
   "id": "electrical-advancement",
   "metadata": {},
   "source": [
    "# Rascunho"
   ]
  },
  {
   "cell_type": "code",
   "execution_count": 299,
   "id": "behind-classic",
   "metadata": {},
   "outputs": [
    {
     "data": {
      "application/vnd.jupyter.widget-view+json": {
       "model_id": "af321220d8134ce09b1b829149757e27",
       "version_major": 2,
       "version_minor": 0
      },
      "text/plain": [
       "VBox()"
      ]
     },
     "metadata": {},
     "output_type": "display_data"
    },
    {
     "data": {
      "application/vnd.jupyter.widget-view+json": {
       "model_id": "",
       "version_major": 2,
       "version_minor": 0
      },
      "text/plain": [
       "FloatProgress(value=0.0, bar_style='info', description='Progress:', layout=Layout(height='25px', width='50%'),…"
      ]
     },
     "metadata": {},
     "output_type": "display_data"
    },
    {
     "name": "stdout",
     "output_type": "stream",
     "text": [
      "dfDays: org.apache.spark.sql.Dataset[org.apache.spark.sql.Row] = [Dia: int, Mes: int ... 2 more fields]\n",
      "+----+----+----+------+\n",
      "| Dia| Mes| Ano| count|\n",
      "+----+----+----+------+\n",
      "|  16|  10|2014|236132|\n",
      "|  17|  10|2014|188568|\n",
      "|  19|  10|2014|158317|\n",
      "|  18|  10|2014|124984|\n",
      "|  15|  10|2014|113653|\n",
      "|  20|  10|2014| 54274|\n",
      "|null|null|null|    16|\n",
      "+----+----+----+------+\n",
      "\n"
     ]
    }
   ],
   "source": [
    "val dfDays = (\n",
    "    hashDF.select(\"Date\")\n",
    "    .filter(\n",
    "     col(\"hashtags\").isNotNull\n",
    " )\n",
    " .withColumn(\"Dia\",\n",
    "             dayofmonth(col(\"Date\"))\n",
    ").withColumn(\"Mes\",\n",
    "             month(col(\"Date\"))\n",
    ").withColumn(\"Ano\",\n",
    "             year(col(\"Date\"))\n",
    ")\n",
    " .groupBy(\"Dia\",\"Mes\",\"Ano\")\n",
    " .count()\n",
    " .orderBy(desc(\"count\"))\n",
    ")\n",
    "\n",
    "saveCSV(dfDays,\"s3://trab4-bucket/datasets/questoes/2/count_days.csv\")\n",
    "\n",
    "dfDays.show(100)"
   ]
  }
 ],
 "metadata": {
  "kernelspec": {
   "display_name": "Spark",
   "language": "",
   "name": "sparkkernel"
  },
  "language_info": {
   "codemirror_mode": "text/x-scala",
   "mimetype": "text/x-scala",
   "name": "scala",
   "pygments_lexer": "scala"
  }
 },
 "nbformat": 4,
 "nbformat_minor": 5
}
